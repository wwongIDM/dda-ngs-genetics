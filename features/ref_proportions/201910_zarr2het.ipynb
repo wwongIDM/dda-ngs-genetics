{
 "cells": [
  {
   "cell_type": "markdown",
   "metadata": {},
   "source": [
    "# Determining the percentage of reference allele counts in Pf v6 samples"
   ]
  },
  {
   "cell_type": "markdown",
   "metadata": {},
   "source": [
    "## Pfv6 Data Release\n",
    "\n",
    "The MalariaGEN Plamodium falciparum Community project recently released version 6 of sequencing data (Oct 10, 2019). This data release contains 7,113 genomes from 73 study sites. Samples from the Pf3k project for which sequence alignments have been downloaded are included. Updates include upgraded variant discovery and genotype calling pipeline. For more details on the data release and available content, please reference the project website: https://www.malariagen.net/resource/26. \n",
    "\n",
    "Variant data have been provided in VCF and Zarr formats.The newer Zarr format is faster and is better for parallelization. The downside is files can only be used in Python and is less documented for use cases, but follows HDF5 conventions. I anticipate any work outside of Python (mainly R) will use VCF files directly mitigating this issue.   \n",
    "\n",
    "## Goals\n",
    "\n",
    "The goal of this analysis is to replicate earlier work by Josh Protoctor on the Pf3k v3 release on the heterozygosity at variant sites. A higher proportion of heterozygozity scores across the genome within a sample is indicative of polyinfections.\n"
   ]
  },
  {
   "cell_type": "markdown",
   "metadata": {},
   "source": [
    "# Approach 1: Parsing the variant VCF files\n",
    "My first attempt to calculate the reference allele count from the VCFs, which included subsetting the SNPs of interest (same parameters discussed below), and then converting the allele counts from wide to long then doing simple division betwen two columns with Bash. I wrapped these commands into a Snakemake pipeline. "
   ]
  },
  {
   "cell_type": "raw",
   "metadata": {},
   "source": [
    "conda activate vcf\n",
    "snakemake -s 20191024_vcf2het.snakefile --configfile 20191024_vcf2het_config.yaml "
   ]
  },
  {
   "cell_type": "markdown",
   "metadata": {},
   "source": [
    "This worked - files were created (with --letency wait warnings), but everytime I restarted the command to create a file that was missing it would rerun all the files. I predict this has to do with opening a new Linux subsystem checking files stored on Windows/Dropbox. Using --touch to update the .snakemake master file with new locations claimed the missing files existed. I am not confident the produced files are completed since --rerun-incomplete flagged all of the steps. Followed-up with creating subset VCF files that will be needed for other analyses on the command line for safety:"
   ]
  },
  {
   "cell_type": "raw",
   "metadata": {},
   "source": [
    "parallel \"bcftools view --threads 32 --include 'FILTER=\\\"PASS\\\" && N_ALT==1 && CDS==1 && TYPE=\\\"snp\\\" && VQSLOD>6' --output-type z --output-file passBi6_chr{}_pfv6.vcf.gz /mnt/c/Users/jribado/Desktop/pf_v6/ngs.sanger.ac.uk/production/malaria/pfcommunityproject/Pf6/Pf_6_vcf/Pf_60_public_Pf3D7_{}_v3.final.vcf.gz\" ::: {01..14}"
   ]
  },
  {
   "cell_type": "markdown",
   "metadata": {},
   "source": [
    "# Approach 2: Parsing the variant Zarr file\n",
    "\n",
    "The scikit-allel package will be used to parse the variant file. I am following the tutorial available from Alistair Miles  http://alimanfoo.github.io/2018/04/09/selecting-variants.html (Accessed Oct. 2019).  "
   ]
  },
  {
   "cell_type": "code",
   "execution_count": 1,
   "metadata": {},
   "outputs": [],
   "source": [
    "# load packages - have been installed in vcf virtual env\n",
    "import os, sys\n",
    "import zarr\n",
    "import numpy as np\n",
    "import pandas as pd\n",
    "import allel  \n",
    "import dask.array as da"
   ]
  },
  {
   "cell_type": "code",
   "execution_count": 2,
   "metadata": {},
   "outputs": [
    {
     "data": {
      "text/html": [
       "<link rel=\"stylesheet\" href=\"//cdnjs.cloudflare.com/ajax/libs/jstree/3.3.3/themes/default/style.min.css\"/><div id=\"82872906-28ca-4939-a1b9-5447770eaceb\" class=\"zarr-tree\"><ul><li data-jstree='{\"type\": \"Group\"}' class='jstree-open'><span>/</span><ul><li data-jstree='{\"type\": \"Group\"}' class='jstree-open'><span>calldata</span><ul><li data-jstree='{\"type\": \"Array\"}' class='jstree-open'><span>AD (6051696, 7113, 7) int16</span></li><li data-jstree='{\"type\": \"Array\"}' class='jstree-open'><span>DP (6051696, 7113) int16</span></li><li data-jstree='{\"type\": \"Array\"}' class='jstree-open'><span>GT (6051696, 7113, 2) int8</span></li><li data-jstree='{\"type\": \"Array\"}' class='jstree-open'><span>PGT (6051696, 7113) object</span></li><li data-jstree='{\"type\": \"Array\"}' class='jstree-open'><span>PID (6051696, 7113) object</span></li></ul></li><li data-jstree='{\"type\": \"Array\"}' class='jstree-open'><span>samples (7113,) object</span></li><li data-jstree='{\"type\": \"Group\"}' class='jstree-open'><span>variants</span><ul><li data-jstree='{\"type\": \"Array\"}' class='jstree-open'><span>AC (6051696, 6) int32</span></li><li data-jstree='{\"type\": \"Array\"}' class='jstree-open'><span>ALT (6051696, 6) object</span></li><li data-jstree='{\"type\": \"Array\"}' class='jstree-open'><span>AN (6051696,) int32</span></li><li data-jstree='{\"type\": \"Array\"}' class='jstree-open'><span>CDS (6051696,) bool</span></li><li data-jstree='{\"type\": \"Array\"}' class='jstree-open'><span>CHROM (6051696,) object</span></li><li data-jstree='{\"type\": \"Array\"}' class='jstree-open'><span>DP (6051696,) int32</span></li><li data-jstree='{\"type\": \"Array\"}' class='jstree-open'><span>FILTER_Apicoplast (6051696,) bool</span></li><li data-jstree='{\"type\": \"Array\"}' class='jstree-open'><span>FILTER_Centromere (6051696,) bool</span></li><li data-jstree='{\"type\": \"Array\"}' class='jstree-open'><span>FILTER_InternalHypervariable (6051696,) bool</span></li><li data-jstree='{\"type\": \"Array\"}' class='jstree-open'><span>FILTER_Low_VQSLOD (6051696,) bool</span></li><li data-jstree='{\"type\": \"Array\"}' class='jstree-open'><span>FILTER_Mitochondrion (6051696,) bool</span></li><li data-jstree='{\"type\": \"Array\"}' class='jstree-open'><span>FILTER_PASS (6051696,) bool</span></li><li data-jstree='{\"type\": \"Array\"}' class='jstree-open'><span>FILTER_SubtelomericHypervariable (6051696,) bool</span></li><li data-jstree='{\"type\": \"Array\"}' class='jstree-open'><span>FILTER_SubtelomericRepeat (6051696,) bool</span></li><li data-jstree='{\"type\": \"Array\"}' class='jstree-open'><span>ID (6051696,) object</span></li><li data-jstree='{\"type\": \"Array\"}' class='jstree-open'><span>POS (6051696,) int32</span></li><li data-jstree='{\"type\": \"Array\"}' class='jstree-open'><span>QUAL (6051696,) float32</span></li><li data-jstree='{\"type\": \"Array\"}' class='jstree-open'><span>REF (6051696,) object</span></li><li data-jstree='{\"type\": \"Array\"}' class='jstree-open'><span>RegionType (6051696,) object</span></li><li data-jstree='{\"type\": \"Array\"}' class='jstree-open'><span>SNPEFF_AMINO_ACID_CHANGE (6051696,) object</span></li><li data-jstree='{\"type\": \"Array\"}' class='jstree-open'><span>SNPEFF_CODON_CHANGE (6051696,) object</span></li><li data-jstree='{\"type\": \"Array\"}' class='jstree-open'><span>SNPEFF_EFFECT (6051696,) object</span></li><li data-jstree='{\"type\": \"Array\"}' class='jstree-open'><span>SNPEFF_EXON_ID (6051696,) object</span></li><li data-jstree='{\"type\": \"Array\"}' class='jstree-open'><span>SNPEFF_FUNCTIONAL_CLASS (6051696,) object</span></li><li data-jstree='{\"type\": \"Array\"}' class='jstree-open'><span>SNPEFF_GENE_NAME (6051696,) object</span></li><li data-jstree='{\"type\": \"Array\"}' class='jstree-open'><span>SNPEFF_IMPACT (6051696,) object</span></li><li data-jstree='{\"type\": \"Array\"}' class='jstree-open'><span>SNPEFF_TRANSCRIPT_ID (6051696,) object</span></li><li data-jstree='{\"type\": \"Array\"}' class='jstree-open'><span>VQSLOD (6051696,) float32</span></li><li data-jstree='{\"type\": \"Array\"}' class='jstree-open'><span>altlen (6051696, 6) int32</span></li><li data-jstree='{\"type\": \"Array\"}' class='jstree-open'><span>is_snp (6051696,) bool</span></li><li data-jstree='{\"type\": \"Array\"}' class='jstree-open'><span>numalt (6051696,) int32</span></li></ul></li></ul></li></ul></div>\n",
       "<script>\n",
       "    if (!require.defined('jquery')) {\n",
       "        require.config({\n",
       "            paths: {\n",
       "                jquery: '//cdnjs.cloudflare.com/ajax/libs/jquery/1.12.1/jquery.min'\n",
       "            },\n",
       "        });\n",
       "    }\n",
       "    if (!require.defined('jstree')) {\n",
       "        require.config({\n",
       "            paths: {\n",
       "                jstree: '//cdnjs.cloudflare.com/ajax/libs/jstree/3.3.3/jstree.min'\n",
       "            },\n",
       "        });\n",
       "    }\n",
       "    require(['jstree'], function() {\n",
       "        $('#82872906-28ca-4939-a1b9-5447770eaceb').jstree({\n",
       "            types: {\n",
       "                Group: {\n",
       "                    icon: \"fa fa-folder\"\n",
       "                },\n",
       "                Array: {\n",
       "                    icon: \"fa fa-table\"\n",
       "                }\n",
       "            },\n",
       "            plugins: [\"types\"]\n",
       "        });\n",
       "    });\n",
       "</script>\n"
      ],
      "text/plain": [
       "/\n",
       " ├── calldata\n",
       " │   ├── AD (6051696, 7113, 7) int16\n",
       " │   ├── DP (6051696, 7113) int16\n",
       " │   ├── GT (6051696, 7113, 2) int8\n",
       " │   ├── PGT (6051696, 7113) object\n",
       " │   └── PID (6051696, 7113) object\n",
       " ├── samples (7113,) object\n",
       " └── variants\n",
       "     ├── AC (6051696, 6) int32\n",
       "     ├── ALT (6051696, 6) object\n",
       "     ├── AN (6051696,) int32\n",
       "     ├── CDS (6051696,) bool\n",
       "     ├── CHROM (6051696,) object\n",
       "     ├── DP (6051696,) int32\n",
       "     ├── FILTER_Apicoplast (6051696,) bool\n",
       "     ├── FILTER_Centromere (6051696,) bool\n",
       "     ├── FILTER_InternalHypervariable (6051696,) bool\n",
       "     ├── FILTER_Low_VQSLOD (6051696,) bool\n",
       "     ├── FILTER_Mitochondrion (6051696,) bool\n",
       "     ├── FILTER_PASS (6051696,) bool\n",
       "     ├── FILTER_SubtelomericHypervariable (6051696,) bool\n",
       "     ├── FILTER_SubtelomericRepeat (6051696,) bool\n",
       "     ├── ID (6051696,) object\n",
       "     ├── POS (6051696,) int32\n",
       "     ├── QUAL (6051696,) float32\n",
       "     ├── REF (6051696,) object\n",
       "     ├── RegionType (6051696,) object\n",
       "     ├── SNPEFF_AMINO_ACID_CHANGE (6051696,) object\n",
       "     ├── SNPEFF_CODON_CHANGE (6051696,) object\n",
       "     ├── SNPEFF_EFFECT (6051696,) object\n",
       "     ├── SNPEFF_EXON_ID (6051696,) object\n",
       "     ├── SNPEFF_FUNCTIONAL_CLASS (6051696,) object\n",
       "     ├── SNPEFF_GENE_NAME (6051696,) object\n",
       "     ├── SNPEFF_IMPACT (6051696,) object\n",
       "     ├── SNPEFF_TRANSCRIPT_ID (6051696,) object\n",
       "     ├── VQSLOD (6051696,) float32\n",
       "     ├── altlen (6051696, 6) int32\n",
       "     ├── is_snp (6051696,) bool\n",
       "     └── numalt (6051696,) int32"
      ]
     },
     "execution_count": 2,
     "metadata": {},
     "output_type": "execute_result"
    }
   ],
   "source": [
    "# read in zarr files\n",
    "zarr_path='/mnt/md0/malariaGen_genomic/pf_v6/Pf_6.zarr.zip'\n",
    "callset = zarr.open(zarr_path, mode='r')\n",
    "callset.tree(expand=True)"
   ]
  },
  {
   "cell_type": "markdown",
   "metadata": {},
   "source": [
    "## Identify high quality samples and variants for subsetting \n"
   ]
  },
  {
   "cell_type": "markdown",
   "metadata": {},
   "source": [
    "### Samples\n",
    "Removal of replicate, low coverage, mislabelled, and mixed species samples resulted in the inclusion of 5,970 of the 7,113 samples in the study. The sampels that failed the above QC metrics have been flagged in the metadata file as 'QC pass' with explanation in 'Exlusion reason' if applicable."
   ]
  },
  {
   "cell_type": "code",
   "execution_count": 3,
   "metadata": {
    "scrolled": true
   },
   "outputs": [
    {
     "name": "stdout",
     "output_type": "stream",
     "text": [
      "True\n"
     ]
    }
   ],
   "source": [
    "# read in metadata\n",
    "pf_meta = '/mnt/md0/malariaGen_genomic/pf_v6/Pf_6_samples.txt'\n",
    "meta = pd.read_csv(pf_meta, sep='\\t', header=0)\n",
    "meta.columns = [x.replace(' ', '_') for x in meta.columns]\n",
    "# check names in metadata are the same as the variant file\n",
    "samples = callset['samples'][:]\n",
    "print(np.all(samples == meta['Sample'].values))"
   ]
  },
  {
   "cell_type": "code",
   "execution_count": 4,
   "metadata": {},
   "outputs": [],
   "source": [
    "# assign metadata sample names the same number as the entry in th variant file for subsetting\n",
    "samples_list = list(samples)\n",
    "meta['callset_index'] =  [samples_list.index(s) for s in meta['Sample']]"
   ]
  },
  {
   "cell_type": "code",
   "execution_count": 5,
   "metadata": {},
   "outputs": [
    {
     "data": {
      "text/plain": [
       "True"
      ]
     },
     "execution_count": 5,
     "metadata": {},
     "output_type": "execute_result"
    }
   ],
   "source": [
    "# keep the samples that pass qc metrics\n",
    "meta_filt = meta[meta.Exclusion_reason == 'Analysis_set']\n",
    "sample_subset = meta_filt.callset_index.values\n",
    "# check it matches the consotrium provided number\n",
    "len(sample_subset) == 5970"
   ]
  },
  {
   "cell_type": "markdown",
   "metadata": {},
   "source": [
    "### Variants\n",
    "It is also recommended to only consider bi-allelic coding SNPs in the core genome with VSQLOD > 6. The VSQLOD metric measures the probability of a variant being false. There should be 83,168 SNPs that meet the strict criteria. "
   ]
  },
  {
   "cell_type": "code",
   "execution_count": 6,
   "metadata": {
    "scrolled": true
   },
   "outputs": [
    {
     "name": "stdout",
     "output_type": "stream",
     "text": [
      "Number of filtered genes: 89578\n",
      "Difference of filtered genes from consortia: 6410\n"
     ]
    }
   ],
   "source": [
    "quality_set = callset['variants/FILTER_PASS'][:]\n",
    "snp_set = callset['variants/is_snp'][:]\n",
    "vsqlod_set = callset['variants/VQSLOD'][:]  > 6\n",
    "biallelic_set = callset['variants/numalt'][:] == 1\n",
    "variant_keep = quality_set & snp_set & vsqlod_set & biallelic_set\n",
    "filt_n = np.count_nonzero(variant_keep)\n",
    "print(\"Number of filtered genes:\", filt_n)\n",
    "print(\"Difference of filtered genes from consortia:\", filt_n - 83168)"
   ]
  },
  {
   "cell_type": "markdown",
   "metadata": {},
   "source": [
    "The number of SNPs that match the criteria was orthoganlly checked with the VCF files using the same filtering parameters provided by the authors of the release notes. Added CDS=1 and change >6 to >=6 (see reasoning below). "
   ]
  },
  {
   "cell_type": "raw",
   "metadata": {},
   "source": [
    "parallel \"bcftools query -f '%CHROM\\t%POS\\t%REF\\t%ALT\\{0\\}\\t%VQSLOD\\n' \\\n",
    "--include 'FILTER=\\\"PASS\\\" && TYPE=\\\"snp\\\" && N_ALT=1 && VQSLOD>=6 && CDS=1' \\\n",
    "/mnt/md0/malariaGen_genomic/pf_v6/Pf_6_vcf/Pf_60_public_Pf3D7_{}_v3.final.vcf.gz > biallelic6_snps_{}.txt\" ::: {01..14}\n",
    "\n",
    "cat biallelic6_snps_*.txt > biallelic_all.txt\n",
    "wc -l biallelic_all.txt\n",
    "83168 biallelic_all.txt"
   ]
  },
  {
   "cell_type": "markdown",
   "metadata": {},
   "source": [
    "We have ~6k more variants that should be keept according the the consortia... hmm. The bcftools command for subsetting also include retaining coding positions. Does filtering noncoding positions give us the correct number?  \n",
    "After meeting Roberto Amato at ASTMH and connecting us with Richard Pearson at Sanger. With a few updates I am able to get the right number with additionalyl including VSQLOD >= 6 instead of just > 6. "
   ]
  },
  {
   "cell_type": "code",
   "execution_count": 13,
   "metadata": {},
   "outputs": [
    {
     "name": "stdout",
     "output_type": "stream",
     "text": [
      "Number of filtered genes: 83168\n",
      "Difference of filtered genes from consortia: 0\n"
     ]
    }
   ],
   "source": [
    "vsqlod_set = callset['variants/VQSLOD'][:]  >= 6\n",
    "# core_set = callset['variants/CDS'][:] == 1 \n",
    "core_set = callset['variants/CDS'][:]\n",
    "variant_keep = quality_set & snp_set & vsqlod_set & biallelic_set & core_set\n",
    "filt_n = np.count_nonzero(variant_keep)\n",
    "print(\"Number of filtered genes:\", filt_n)\n",
    "print(\"Difference of filtered genes from consortia:\", filt_n - 83168)"
   ]
  },
  {
   "cell_type": "markdown",
   "metadata": {},
   "source": [
    "Coding regions put us about ~1k SNPs below the consortia estimate. Perhaps the additional SNPs are found in the mitochondrial and apicoplast variant files that are not merged in the Zarr object?\n"
   ]
  },
  {
   "cell_type": "raw",
   "metadata": {},
   "source": [
    "VCF_DIR=\"/mnt/c/Users/jribado/Desktop/pf_v6/ngs.sanger.ac.uk/production/malaria/pfcommunityproject/Pf6/Pf_6_vcf\"\n",
    "parallel --dryrun \"bcftools query -f '%CHROM\\t%POS\\t%REF\\t%ALT\\{0\\}\\t%VQSLOD\\n' --include 'FILTER=\\\"PASS\\\" && TYPE=\\\"snp\\\" && N_ALT=1 && VQSLOD>6' {} >> biallelic6_snps_nonAutosome.txt\" ::: $(ls $VCF_DIR/*.gz | grep -v Pf3D7_[0-9])\n",
    "\n",
    "wc -l biallelic6_snps_nonAutosome.txt\n",
    "0 biallelic6_snps_nonAutosome.txt"
   ]
  },
  {
   "cell_type": "markdown",
   "metadata": {},
   "source": [
    "Nope, nonautosomal variants are not a source of the missing variants. \n",
    "\n",
    "Coding region SNPs have higher biological constraint, so let's start with those sites.  Pruning non-segregating sites across populations will also improve the informativeness of the SNPs in regards to selection. For each SNP we can count the copies of the reference allele (0) and each of the alternate alleles (1, 2, 3) observed in each population.\n",
    "\n",
    "First, map the sample indixes to population names. "
   ]
  },
  {
   "cell_type": "code",
   "execution_count": 117,
   "metadata": {},
   "outputs": [
    {
     "data": {
      "text/plain": [
       "WAF     2231\n",
       "ESEA    1262\n",
       "WSEA    1079\n",
       "EAF      739\n",
       "CAF      344\n",
       "OCE      201\n",
       "SAS       77\n",
       "SAM       37\n",
       "Name: Population, dtype: int64"
      ]
     },
     "execution_count": 117,
     "metadata": {},
     "output_type": "execute_result"
    }
   ],
   "source": [
    "meta_filt.Population.value_counts()"
   ]
  },
  {
   "cell_type": "code",
   "execution_count": 8,
   "metadata": {},
   "outputs": [],
   "source": [
    "subpops = {\n",
    "    'all': list(meta_filt.callset_index),\n",
    "    'WAF': meta_filt[meta_filt.Population == 'WAF'].callset_index.tolist(),\n",
    "    'EAF': meta_filt[meta_filt.Population == 'EAF'].callset_index.tolist(),\n",
    "    'CAF': meta_filt[meta_filt.Population == 'CAF'].callset_index.tolist(),\n",
    "    'ESEA': meta_filt[meta_filt.Population == 'ESEA'].callset_index.tolist(),\n",
    "    'WSEA': meta_filt[meta_filt.Population == 'WSEA'].callset_index.tolist(),\n",
    "    'OCE': meta_filt[meta_filt.Population == 'OCE'].callset_index.tolist(),\n",
    "    'SAS': meta_filt[meta_filt.Population == 'SAS'].callset_index.tolist(),\n",
    "    'SAM': meta_filt[meta_filt.Population == 'SAM'].callset_index.tolist()\n",
    "}"
   ]
  },
  {
   "cell_type": "code",
   "execution_count": 9,
   "metadata": {
    "scrolled": true
   },
   "outputs": [
    {
     "data": {
      "text/html": [
       "<div class=\"allel allel-DisplayAs2D\"><span>&lt;GenotypeArray shape=(89578, 7113, 2) dtype=int8&gt;</span><table><thead><tr><th></th><th style=\"text-align: center\">0</th><th style=\"text-align: center\">1</th><th style=\"text-align: center\">2</th><th style=\"text-align: center\">3</th><th style=\"text-align: center\">4</th><th style=\"text-align: center\">...</th><th style=\"text-align: center\">7108</th><th style=\"text-align: center\">7109</th><th style=\"text-align: center\">7110</th><th style=\"text-align: center\">7111</th><th style=\"text-align: center\">7112</th></tr></thead><tbody><tr><th style=\"text-align: center; background-color: white; border-right: 1px solid black; \">0</th><td style=\"text-align: center\">0/0</td><td style=\"text-align: center\">0/0</td><td style=\"text-align: center\">0/0</td><td style=\"text-align: center\">0/0</td><td style=\"text-align: center\">0/0</td><td style=\"text-align: center\">...</td><td style=\"text-align: center\">0/0</td><td style=\"text-align: center\">0/0</td><td style=\"text-align: center\">0/0</td><td style=\"text-align: center\">0/0</td><td style=\"text-align: center\">0/0</td></tr><tr><th style=\"text-align: center; background-color: white; border-right: 1px solid black; \">1</th><td style=\"text-align: center\">0/0</td><td style=\"text-align: center\">0/0</td><td style=\"text-align: center\">0/0</td><td style=\"text-align: center\">0/0</td><td style=\"text-align: center\">0/0</td><td style=\"text-align: center\">...</td><td style=\"text-align: center\">0/0</td><td style=\"text-align: center\">0/0</td><td style=\"text-align: center\">0/0</td><td style=\"text-align: center\">0/0</td><td style=\"text-align: center\">0/0</td></tr><tr><th style=\"text-align: center; background-color: white; border-right: 1px solid black; \">2</th><td style=\"text-align: center\">0/0</td><td style=\"text-align: center\">0/0</td><td style=\"text-align: center\">0/0</td><td style=\"text-align: center\">0/0</td><td style=\"text-align: center\">0/0</td><td style=\"text-align: center\">...</td><td style=\"text-align: center\">0/0</td><td style=\"text-align: center\">0/0</td><td style=\"text-align: center\">0/0</td><td style=\"text-align: center\">0/0</td><td style=\"text-align: center\">0/0</td></tr><tr><th style=\"text-align: center; background-color: white; border-right: 1px solid black; \">...</th><td style=\"text-align: center\" colspan=\"12\">...</td></tr><tr><th style=\"text-align: center; background-color: white; border-right: 1px solid black; \">89575</th><td style=\"text-align: center\">0/0</td><td style=\"text-align: center\">0/0</td><td style=\"text-align: center\">0/0</td><td style=\"text-align: center\">0/0</td><td style=\"text-align: center\">0/0</td><td style=\"text-align: center\">...</td><td style=\"text-align: center\">0/0</td><td style=\"text-align: center\">0/0</td><td style=\"text-align: center\">0/0</td><td style=\"text-align: center\">0/0</td><td style=\"text-align: center\">0/0</td></tr><tr><th style=\"text-align: center; background-color: white; border-right: 1px solid black; \">89576</th><td style=\"text-align: center\">0/0</td><td style=\"text-align: center\">0/0</td><td style=\"text-align: center\">0/0</td><td style=\"text-align: center\">0/0</td><td style=\"text-align: center\">0/0</td><td style=\"text-align: center\">...</td><td style=\"text-align: center\">0/0</td><td style=\"text-align: center\">0/0</td><td style=\"text-align: center\">0/0</td><td style=\"text-align: center\">0/0</td><td style=\"text-align: center\">0/0</td></tr><tr><th style=\"text-align: center; background-color: white; border-right: 1px solid black; \">89577</th><td style=\"text-align: center\">0/1</td><td style=\"text-align: center\">0/0</td><td style=\"text-align: center\">0/1</td><td style=\"text-align: center\">1/1</td><td style=\"text-align: center\">1/1</td><td style=\"text-align: center\">...</td><td style=\"text-align: center\">1/1</td><td style=\"text-align: center\">1/1</td><td style=\"text-align: center\">1/1</td><td style=\"text-align: center\">0/0</td><td style=\"text-align: center\">1/1</td></tr></tbody></table></div>"
      ],
      "text/plain": [
       "<GenotypeArray shape=(89578, 7113, 2) dtype=int8>\n",
       "0/0 0/0 0/0 0/0 0/0 ... 0/0 0/0 0/0 0/0 0/0\n",
       "0/0 0/0 0/0 0/0 0/0 ... 0/0 0/0 0/0 0/0 0/0\n",
       "0/0 0/0 0/0 0/0 0/0 ... 0/0 0/0 0/0 0/0 0/0\n",
       "...\n",
       "0/0 0/0 0/0 0/0 0/0 ... 0/0 0/0 0/0 0/0 0/0\n",
       "0/0 0/0 0/0 0/0 0/0 ... 0/0 0/0 0/0 0/0 0/0\n",
       "0/1 0/0 0/1 1/1 1/1 ... 1/1 1/1 1/1 0/0 1/1"
      ]
     },
     "execution_count": 9,
     "metadata": {},
     "output_type": "execute_result"
    }
   ],
   "source": [
    "gt_zarr = callset['calldata/GT']\n",
    "gt_dask = allel.GenotypeDaskArray(gt_zarr)\n",
    "gt_daskSub = gt_dask.subset(variant_keep).compute()\n",
    "gt_daskSub"
   ]
  },
  {
   "cell_type": "code",
   "execution_count": 143,
   "metadata": {
    "scrolled": false
   },
   "outputs": [
    {
     "name": "stdout",
     "output_type": "stream",
     "text": [
      "WAF 82193 57105 57105\n",
      "EAF 82193 28710 28710\n",
      "WSEA 82193 14806 14806\n",
      "ESEA 82193 14439 14439\n",
      "OCE 82193 11326 11326\n",
      "SAM 82193 6013 6013\n",
      "SAS 82193 12613 12613\n",
      "CAF 82193 20765 20765\n"
     ]
    }
   ],
   "source": [
    "ac_subpops = gt_daskSub.count_alleles_subpops(subpops)\n",
    "is_seg = ac_subpops['all'].is_segregating()[:]\n",
    "populations = meta_filt.Population.unique()\n",
    "for pop in populations:\n",
    "    print(pop, len(ac_subpops[pop].is_segregating()[:]),\n",
    "          np.count_nonzero(ac_subpops[pop].is_segregating()[:])"
   ]
  },
  {
   "cell_type": "code",
   "execution_count": 140,
   "metadata": {
    "scrolled": false
   },
   "outputs": [
    {
     "name": "stdout",
     "output_type": "stream",
     "text": [
      "WAF 82193 4510 22613\n",
      "EAF 82193 2424 7901\n",
      "WSEA 82193 441 1097\n",
      "ESEA 82193 283 917\n",
      "OCE 82193 481 866\n",
      "SAM 82193 5 450\n",
      "SAS 82193 1158 1786\n",
      "CAF 82193 2480 4802\n"
     ]
    }
   ],
   "source": [
    "populations = meta_filt.Population.unique()\n",
    "for pop in populations:\n",
    "    print(pop, len(ac_subpops[pop].is_singleton(allele=1)[:]),\n",
    "          np.count_nonzero(ac_subpops[pop].is_singleton(allele=1)[:]),\n",
    "          np.count_nonzero(ac_subpops[pop].is_doubleton(allele=1)[:]))"
   ]
  },
  {
   "cell_type": "markdown",
   "metadata": {},
   "source": [
    "allel.locate_unlinked("
   ]
  },
  {
   "cell_type": "markdown",
   "metadata": {},
   "source": [
    "## Subset Zarr objects\n",
    "\n",
    "To calculate the percentage of reads that align to the reference, we need to extract the number of reads that align to that position and the number of reads that align to the reference allele. The number of reads at each position are found in the 'DP' field, while a individual counts per allele are in the 'AD' field, comma seprated by counts to each allele in order of reference + n(alleles) in REF. "
   ]
  },
  {
   "cell_type": "code",
   "execution_count": 20,
   "metadata": {
    "scrolled": true
   },
   "outputs": [],
   "source": [
    "# pull total number of high quality reads that align to each position per sample\n",
    "dp_zarr = callset['calldata/DP']\n",
    "dp_dask = allel.AlleleCountsDaskArray(dp_zarr)\n",
    "dp_variant_selection = dp_dask.compress(variant_subset, axis=0).compute()\n",
    "dp_variant_selection = dp_variant_selection.take(sample_subset, axis=1)"
   ]
  },
  {
   "cell_type": "code",
   "execution_count": 21,
   "metadata": {},
   "outputs": [],
   "source": [
    "# get the number of reads that align to each of the alleles\n",
    "ad_zarr=callset['calldata/AD']\n",
    "ad_array=da.from_zarr(ad_zarr)\n",
    "ad_variant_selection=ad_array[variant_subset]"
   ]
  },
  {
   "cell_type": "code",
   "execution_count": 22,
   "metadata": {},
   "outputs": [],
   "source": [
    "# pull the first item in the allele count array to get the reference count\n",
    "ad_array_ref=ad_variant_selection[:,sample_subset,0]\n",
    "ad_array_ref=ad_array_ref.compute()"
   ]
  },
  {
   "cell_type": "code",
   "execution_count": 23,
   "metadata": {},
   "outputs": [
    {
     "data": {
      "text/plain": [
       "True"
      ]
     },
     "execution_count": 23,
     "metadata": {},
     "output_type": "execute_result"
    }
   ],
   "source": [
    "# check both data frames have the same dimension\n",
    "np.shape(ad_array_ref) == np.shape(dp_variant_selection)"
   ]
  },
  {
   "cell_type": "code",
   "execution_count": 24,
   "metadata": {},
   "outputs": [],
   "source": [
    "# ignore zero division for site where one population may have an allele but other samples may not have adequate coverage\n",
    "np.seterr(divide='ignore', invalid='ignore')\n",
    "ref_het_calc=ad_array_ref/dp_variant_selection"
   ]
  },
  {
   "cell_type": "markdown",
   "metadata": {},
   "source": [
    "## Save to data frame "
   ]
  },
  {
   "cell_type": "code",
   "execution_count": 25,
   "metadata": {},
   "outputs": [],
   "source": [
    "# assign the row names that correspond to the chromosome and position\n",
    "pos_keep = np.where(variant_subset)[0]\n",
    "chrom = [\"chr\"+x.split(\"_\",2)[1] for x in callset['variants/CHROM'][:][pos_keep].tolist()]\n",
    "pos = callset['variants/POS'][:][pos_keep].tolist()\n",
    "pos_index = [x + \"_\" + str(y) for x, y in zip(chrom, pos)]\n",
    "\n",
    "het_df=pd.DataFrame(data=ref_het_calc,\n",
    "                     index=pos_index,\n",
    "                     columns=[callset['samples'][i] for i in sample_subset])\n",
    "het_df\n",
    "het_df.to_csv('/mnt/c/Users/jribado/Desktop/pf_v6/biAllelicPassSeg_hetCounts.txt', header=True, index=True, sep=\"\\t\")\n",
    "count_df=pd.DataFrame(data=dp_variant_selection[0:,0:],\n",
    "                     index=pos_index,\n",
    "                     columns=[callset['samples'][i] for i in sample_subset])\n",
    "count_df.to_csv('/mnt/c/Users/jribado/Desktop/pf_v6/biAllelicPassSeg_baseCounts.txt', header=True, index=True, sep=\"\\t\")"
   ]
  },
  {
   "cell_type": "code",
   "execution_count": null,
   "metadata": {},
   "outputs": [],
   "source": []
  }
 ],
 "metadata": {
  "kernelspec": {
   "display_name": "Python 3",
   "language": "python",
   "name": "python3"
  },
  "language_info": {
   "codemirror_mode": {
    "name": "ipython",
    "version": 3
   },
   "file_extension": ".py",
   "mimetype": "text/x-python",
   "name": "python",
   "nbconvert_exporter": "python",
   "pygments_lexer": "ipython3",
   "version": "3.6.9"
  }
 },
 "nbformat": 4,
 "nbformat_minor": 2
}
