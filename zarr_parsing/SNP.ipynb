{
 "cells": [
  {
   "cell_type": "code",
   "execution_count": null,
   "metadata": {},
   "outputs": [],
   "source": [
    "# load packages - have been installed in vcf virtual env\n",
    "import os, sys\n",
    "import zarr\n",
    "import numpy as np\n",
    "import pandas as pd\n",
    "import allel  \n",
    "import dask.array as da\n",
    "from itertools import compress\n",
    "import glob\n",
    "from collections import defaultdict"
   ]
  },
  {
   "cell_type": "code",
   "execution_count": 13,
   "metadata": {},
   "outputs": [],
   "source": [
    "def read_zarr(chrom, zarr_path):\n",
    "    zarr_file = zarr_path + 'SNP_INDEL_Pf3D7_' + chrom + '_v3.zarr'\n",
    "    print(zarr_file)\n",
    "    callset = zarr.open(zarr_file, mode='r')\n",
    "    return(callset)\n",
    "\n",
    "def gt_subset(callset, variant_bool, sample_bool):\n",
    "    gt_zarr = callset['calldata/GT']\n",
    "    gt_dask = allel.GenotypeDaskArray(gt_zarr)\n",
    "    gt_daskSub = gt_dask.subset(variant_bool, sample_bool).compute()\n",
    "    return(gt_daskSub)\n",
    "\n",
    "def overlap_avail(user_pos_list, callset):\n",
    "    zarr_index   = callset['variants/POS'][:].tolist()\n",
    "    user_overlap =  [i in user_pos_list for i in zarr_index]\n",
    "    return(user_overlap)\n",
    "    \n",
    "def overlap_filter(user_snps, filter_snps):\n",
    "    return(user_snps & filter_snps)\n",
    "\n",
    "def user_snps(user_df, chrom):\n",
    "    user_sub = user_df[user_df['chr'].str.contains(chrom)]\n",
    "    return(user_sub[\"position\"].tolist())\n",
    "    \n",
    "def variant_filter(callset, vsqlod_min, num_alt):\n",
    "    quality_set = callset['variants/FILTER_PASS'][:]\n",
    "    snp_set = callset['variants/is_snp'][:]\n",
    "    vsqlod_set = callset['variants/VQSLOD'][:]  > vsqlod_min\n",
    "    alt_set = callset['variants/numalt'][:] < num_alt + 1 \n",
    "    variant_hq = quality_set & snp_set & vsqlod_set & alt_set\n",
    "    return(variant_hq)\n",
    "\n",
    "\n",
    "def allele_freq(callset, variant_bool, sample_bool, num_alt, chrom):\n",
    "    gt_daskSub = gt_subset(callset, variant_bool, sample_bool)\n",
    "    # count number of alleles\n",
    "    ac = gt_daskSub.count_alleles(max_allele=num_alt)\n",
    "    sub_af = ac/ac.sum(axis=1, keepdims=True)\n",
    "    sub_df = pd.DataFrame(sub_af,\n",
    "                 index=[\"Pf3D7_\" + chrom + \"_v3:\" + str(x) for x in np.array(callset['variants/POS'][:])[variant_bool]],\n",
    "                 columns=[\"REF\"] + [\"ALT\" + str(x) for x in range(1, num_alt + 1)])\n",
    "    return(sub_df)\n",
    "\n",
    "def gt_merge(list1, list2, j, callset, variant_bool):\n",
    "    dic = {-1:\"X\", \n",
    "           0: np.array(callset['variants/REF'][:])[variant_bool][j], \n",
    "           1: np.array(callset['variants/ALT'][:])[variant_bool][j,0], \n",
    "           2: np.array(callset['variants/ALT'][:])[variant_bool][j,1],\n",
    "           3: np.array(callset['variants/ALT'][:])[variant_bool][j,2]}\n",
    "    merged_list = []\n",
    "    for i in range(0, len(list1)):\n",
    "        if list1[i] == list2[i]:\n",
    "            if list1[i] == -1:\n",
    "                merged_list.append(\"X\")\n",
    "            else:\n",
    "                merged_list.append(list1[i])\n",
    "        else:\n",
    "            merged_list.append(\"N\") \n",
    "    merged_replace=[dic.get(n, n) for n in merged_list]  \n",
    "    return(merged_replace)\n",
    "\n",
    "def match_genotype(callset, variant_bool, sample_bool, chrom ):\n",
    "    gt_daskSub = gt_subset(callset, variant_bool, sample_bool)\n",
    "    data =[]\n",
    "    for j in range(0, len(gt_daskSub)):\n",
    "        data.append(gt_merge(gt_daskSub[j,:,0], gt_daskSub[j,:,1], j, callset, variant_bool))\n",
    "    gt_df = pd.DataFrame(data,\n",
    "                 index=[\"Pf3D7_\" + chrom + \"_v3:\" + str(x) for x in np.array(callset['variants/POS'][:])[variant_bool]],\n",
    "                 columns=list(compress(np.array(callset['samples']).tolist(), sample_bool)))\n",
    "    return(gt_df)"
   ]
  },
  {
   "cell_type": "code",
   "execution_count": 14,
   "metadata": {},
   "outputs": [],
   "source": [
    "# import the SNPs of interest - i.e. 24 barcode positions\n",
    "project_dir = 'C:/Users/wwong/Dropbox (IDM)/parasite_genetics/genomics/senegal'\n",
    "user_snp_file = os.path.join(project_dir, \"2008Daniels_BarcodePositions_Updated.txt\")\n",
    "user_snp_df = pd.read_csv(user_snp_file, sep='\\t', header=0)\n",
    "user_snp_df\n",
    "\n",
    "#user_samples = 'C:/Users/wwong/Dropbox (IDM)/parasite_genetics/genomics/senegal/pf3k_bc_sampleOverlap.txt'\n",
    "#with open(user_samples) as f:\n",
    "#    sampleList = f.read().splitlines() \n",
    "#print(sampleList[1:5])\n",
    "#print(len(sampleList))\n",
    "\n",
    "sampleList = ['SenP005.02','SenP008.04','SenP011.02','SenP019.04','SenP027.02','SenP031.01','SenP051.02','SenP060.02','SenT001.08']\n",
    "\n"
   ]
  },
  {
   "cell_type": "code",
   "execution_count": 15,
   "metadata": {},
   "outputs": [
    {
     "name": "stdout",
     "output_type": "stream",
     "text": [
      "C:/Users/wwong/Dropbox (IDM)/parasite_genetics/genomics/pf3k_zarr/SNP_INDEL_Pf3D7_01_v3.zarr\n"
     ]
    },
    {
     "ename": "TypeError",
     "evalue": "bad number of dimensions: expected 2; found 3",
     "output_type": "error",
     "traceback": [
      "\u001b[1;31m---------------------------------------------------------------------------\u001b[0m",
      "\u001b[1;31mTypeError\u001b[0m                                 Traceback (most recent call last)",
      "\u001b[1;32m<ipython-input-15-f11d9c1be432>\u001b[0m in \u001b[0;36m<module>\u001b[1;34m()\u001b[0m\n\u001b[0;32m     56\u001b[0m \u001b[0mZ\u001b[0m\u001b[1;33m.\u001b[0m\u001b[0mextract_fields\u001b[0m\u001b[1;33m(\u001b[0m\u001b[1;34m'calldata'\u001b[0m\u001b[1;33m,\u001b[0m \u001b[1;34m'GT'\u001b[0m\u001b[1;33m)\u001b[0m\u001b[1;33m\u001b[0m\u001b[0m\n\u001b[0;32m     57\u001b[0m \u001b[0mZ\u001b[0m\u001b[1;33m.\u001b[0m\u001b[0mextract_fields\u001b[0m\u001b[1;33m(\u001b[0m\u001b[1;34m'calldata'\u001b[0m\u001b[1;33m,\u001b[0m \u001b[1;34m'DP'\u001b[0m\u001b[1;33m)\u001b[0m\u001b[1;33m\u001b[0m\u001b[0m\n\u001b[1;32m---> 58\u001b[1;33m \u001b[0mZ\u001b[0m\u001b[1;33m.\u001b[0m\u001b[0mextract_fields\u001b[0m\u001b[1;33m(\u001b[0m\u001b[1;34m'calldata'\u001b[0m\u001b[1;33m,\u001b[0m \u001b[1;34m'AD'\u001b[0m\u001b[1;33m)\u001b[0m\u001b[1;33m\u001b[0m\u001b[0m\n\u001b[0m\u001b[0;32m     59\u001b[0m \u001b[1;33m\u001b[0m\u001b[0m\n\u001b[0;32m     60\u001b[0m \u001b[1;33m\u001b[0m\u001b[0m\n",
      "\u001b[1;32m<ipython-input-15-f11d9c1be432>\u001b[0m in \u001b[0;36mextract_fields\u001b[1;34m(self, dir1, field)\u001b[0m\n\u001b[0;32m     47\u001b[0m                 \u001b[0mself\u001b[0m\u001b[1;33m.\u001b[0m\u001b[0mfields\u001b[0m\u001b[1;33m[\u001b[0m\u001b[0mentry\u001b[0m\u001b[1;33m]\u001b[0m\u001b[1;33m[\u001b[0m\u001b[0mchromosome\u001b[0m\u001b[1;33m]\u001b[0m \u001b[1;33m=\u001b[0m \u001b[0mdask\u001b[0m\u001b[1;33m.\u001b[0m\u001b[0msubset\u001b[0m\u001b[1;33m(\u001b[0m\u001b[0mself\u001b[0m\u001b[1;33m.\u001b[0m\u001b[0mvariant_bools\u001b[0m\u001b[1;33m[\u001b[0m\u001b[0mchromosome\u001b[0m\u001b[1;33m]\u001b[0m\u001b[1;33m,\u001b[0m \u001b[0mself\u001b[0m\u001b[1;33m.\u001b[0m\u001b[0msample_bools\u001b[0m\u001b[1;33m[\u001b[0m\u001b[0mchromosome\u001b[0m\u001b[1;33m]\u001b[0m\u001b[1;33m)\u001b[0m\u001b[1;33m.\u001b[0m\u001b[0mcompute\u001b[0m\u001b[1;33m(\u001b[0m\u001b[1;33m)\u001b[0m\u001b[1;33m\u001b[0m\u001b[0m\n\u001b[0;32m     48\u001b[0m             \u001b[1;32melse\u001b[0m\u001b[1;33m:\u001b[0m \u001b[1;31m#check the differentiation between AlleleCountsDaskarray and GenotypeDaskArray\u001b[0m\u001b[1;33m\u001b[0m\u001b[0m\n\u001b[1;32m---> 49\u001b[1;33m                 \u001b[0mdask\u001b[0m \u001b[1;33m=\u001b[0m \u001b[0mallel\u001b[0m\u001b[1;33m.\u001b[0m\u001b[0mAlleleCountsDaskArray\u001b[0m\u001b[1;33m(\u001b[0m\u001b[0mself\u001b[0m\u001b[1;33m.\u001b[0m\u001b[0mcallset\u001b[0m\u001b[1;33m[\u001b[0m\u001b[0mchromosome\u001b[0m\u001b[1;33m]\u001b[0m\u001b[1;33m[\u001b[0m\u001b[0mentry\u001b[0m\u001b[1;33m]\u001b[0m\u001b[1;33m)\u001b[0m\u001b[1;33m\u001b[0m\u001b[0m\n\u001b[0m\u001b[0;32m     50\u001b[0m                 \u001b[0mvariant_selection\u001b[0m \u001b[1;33m=\u001b[0m \u001b[0mdask\u001b[0m\u001b[1;33m.\u001b[0m\u001b[0mcompress\u001b[0m\u001b[1;33m(\u001b[0m\u001b[0mself\u001b[0m\u001b[1;33m.\u001b[0m\u001b[0mvariant_bools\u001b[0m\u001b[1;33m[\u001b[0m\u001b[0mchromosome\u001b[0m\u001b[1;33m]\u001b[0m\u001b[1;33m,\u001b[0m \u001b[0maxis\u001b[0m\u001b[1;33m=\u001b[0m\u001b[1;36m0\u001b[0m\u001b[1;33m)\u001b[0m\u001b[1;33m.\u001b[0m\u001b[0mcompute\u001b[0m\u001b[1;33m(\u001b[0m\u001b[1;33m)\u001b[0m\u001b[1;33m\u001b[0m\u001b[0m\n\u001b[0;32m     51\u001b[0m                 \u001b[0mvariant_selection\u001b[0m \u001b[1;33m=\u001b[0m \u001b[0mvariant_selection\u001b[0m\u001b[1;33m[\u001b[0m\u001b[1;33m:\u001b[0m\u001b[1;33m,\u001b[0m \u001b[0mself\u001b[0m\u001b[1;33m.\u001b[0m\u001b[0msample_bools\u001b[0m\u001b[1;33m[\u001b[0m\u001b[0mchromosome\u001b[0m\u001b[1;33m]\u001b[0m\u001b[1;33m]\u001b[0m\u001b[1;33m\u001b[0m\u001b[0m\n",
      "\u001b[1;32mC:\\ProgramData\\Anaconda3\\lib\\site-packages\\allel\\model\\dask.py\u001b[0m in \u001b[0;36m__init__\u001b[1;34m(self, data, chunks, name, lock)\u001b[0m\n\u001b[0;32m    670\u001b[0m     \u001b[1;32mdef\u001b[0m \u001b[0m__init__\u001b[0m\u001b[1;33m(\u001b[0m\u001b[0mself\u001b[0m\u001b[1;33m,\u001b[0m \u001b[0mdata\u001b[0m\u001b[1;33m,\u001b[0m \u001b[0mchunks\u001b[0m\u001b[1;33m=\u001b[0m\u001b[1;32mNone\u001b[0m\u001b[1;33m,\u001b[0m \u001b[0mname\u001b[0m\u001b[1;33m=\u001b[0m\u001b[1;32mNone\u001b[0m\u001b[1;33m,\u001b[0m \u001b[0mlock\u001b[0m\u001b[1;33m=\u001b[0m\u001b[1;32mFalse\u001b[0m\u001b[1;33m)\u001b[0m\u001b[1;33m:\u001b[0m\u001b[1;33m\u001b[0m\u001b[0m\n\u001b[0;32m    671\u001b[0m         \u001b[0msuper\u001b[0m\u001b[1;33m(\u001b[0m\u001b[0mAlleleCountsDaskArray\u001b[0m\u001b[1;33m,\u001b[0m \u001b[0mself\u001b[0m\u001b[1;33m)\u001b[0m\u001b[1;33m.\u001b[0m\u001b[0m__init__\u001b[0m\u001b[1;33m(\u001b[0m\u001b[0mdata\u001b[0m\u001b[1;33m,\u001b[0m \u001b[0mchunks\u001b[0m\u001b[1;33m=\u001b[0m\u001b[0mchunks\u001b[0m\u001b[1;33m,\u001b[0m \u001b[0mname\u001b[0m\u001b[1;33m=\u001b[0m\u001b[0mname\u001b[0m\u001b[1;33m,\u001b[0m \u001b[0mlock\u001b[0m\u001b[1;33m=\u001b[0m\u001b[0mlock\u001b[0m\u001b[1;33m)\u001b[0m\u001b[1;33m\u001b[0m\u001b[0m\n\u001b[1;32m--> 672\u001b[1;33m         \u001b[0mcheck_ndim\u001b[0m\u001b[1;33m(\u001b[0m\u001b[0mself\u001b[0m\u001b[1;33m.\u001b[0m\u001b[0mvalues\u001b[0m\u001b[1;33m,\u001b[0m \u001b[1;36m2\u001b[0m\u001b[1;33m)\u001b[0m\u001b[1;33m\u001b[0m\u001b[0m\n\u001b[0m\u001b[0;32m    673\u001b[0m         \u001b[0mcheck_integer_dtype\u001b[0m\u001b[1;33m(\u001b[0m\u001b[0mself\u001b[0m\u001b[1;33m.\u001b[0m\u001b[0mvalues\u001b[0m\u001b[1;33m)\u001b[0m\u001b[1;33m\u001b[0m\u001b[0m\n\u001b[0;32m    674\u001b[0m \u001b[1;33m\u001b[0m\u001b[0m\n",
      "\u001b[1;32mC:\\ProgramData\\Anaconda3\\lib\\site-packages\\allel\\util.py\u001b[0m in \u001b[0;36mcheck_ndim\u001b[1;34m(a, ndim)\u001b[0m\n\u001b[0;32m     64\u001b[0m \u001b[1;32mdef\u001b[0m \u001b[0mcheck_ndim\u001b[0m\u001b[1;33m(\u001b[0m\u001b[0ma\u001b[0m\u001b[1;33m,\u001b[0m \u001b[0mndim\u001b[0m\u001b[1;33m)\u001b[0m\u001b[1;33m:\u001b[0m\u001b[1;33m\u001b[0m\u001b[0m\n\u001b[0;32m     65\u001b[0m     \u001b[1;32mif\u001b[0m \u001b[0ma\u001b[0m\u001b[1;33m.\u001b[0m\u001b[0mndim\u001b[0m \u001b[1;33m!=\u001b[0m \u001b[0mndim\u001b[0m\u001b[1;33m:\u001b[0m\u001b[1;33m\u001b[0m\u001b[0m\n\u001b[1;32m---> 66\u001b[1;33m         \u001b[1;32mraise\u001b[0m \u001b[0mTypeError\u001b[0m\u001b[1;33m(\u001b[0m\u001b[1;34m'bad number of dimensions: expected %s; found %s'\u001b[0m \u001b[1;33m%\u001b[0m \u001b[1;33m(\u001b[0m\u001b[0mndim\u001b[0m\u001b[1;33m,\u001b[0m \u001b[0ma\u001b[0m\u001b[1;33m.\u001b[0m\u001b[0mndim\u001b[0m\u001b[1;33m)\u001b[0m\u001b[1;33m)\u001b[0m\u001b[1;33m\u001b[0m\u001b[0m\n\u001b[0m\u001b[0;32m     67\u001b[0m \u001b[1;33m\u001b[0m\u001b[0m\n\u001b[0;32m     68\u001b[0m \u001b[1;33m\u001b[0m\u001b[0m\n",
      "\u001b[1;31mTypeError\u001b[0m: bad number of dimensions: expected 2; found 3"
     ]
    }
   ],
   "source": [
    "project_dir = 'C:/Users/wwong/Dropbox (IDM)/parasite_genetics/genomics/senegal/'\n",
    "num_alt = 3\n",
    "genotypes, frequencies = [], []\n",
    "\n",
    "\n",
    "class Zarr_Parse():\n",
    "    def __init__(self, sample_list, position_df, chrom_list = [x for x in range(1,15)], zarr_directory = 'C:/Users/wwong/Dropbox (IDM)/parasite_genetics/genomics/pf3k_zarr/',):\n",
    "        self.zarr_directory = zarr_directory\n",
    "        self.zfile_chromosomes = [int(zfile.split('_')[-2]) for zfile in glob.glob(self.zarr_directory + '*.zarr')]\n",
    "        self.chromosomes = []\n",
    "        self.samples = sample_list\n",
    "        self.positions = position_df #dataframe, columns = ['chr', 'position']\n",
    "        self.callset = {}\n",
    "        self.variant_bools = {}\n",
    "        self.sample_bools = {}\n",
    "        self.freq = {}\n",
    "        self.genotypes = {}        \n",
    "        self.fields = defaultdict(dict)\n",
    "        \n",
    "        self.create_callset(chrom_list)\n",
    "        \n",
    "    def create_callset(self, chrom_list):\n",
    "        for chromosome in chrom_list:\n",
    "            if int(chromosome) in self.zfile_chromosomes:\n",
    "                self.chromosomes.append(chromosome)\n",
    "                chrom = \"{:02d}\".format(chromosome)\n",
    "                callset = read_zarr(chrom, self.zarr_directory)\n",
    "                self.callset[chromosome]= callset\n",
    "                \n",
    "                user_chrom_snps = user_snps(self.positions, chrom)\n",
    "                variant_bool = overlap_filter(overlap_avail(user_chrom_snps, callset), \n",
    "                                          variant_filter(callset, 2, num_alt))\n",
    "                self.variant_bools[chromosome] = variant_bool\n",
    "                \n",
    "                callset_samples = np.asarray(self.callset[chromosome]['samples']) #callset_samples\n",
    "                sample_bool = np.array([i in self.samples for i in callset_samples]) \n",
    "                self.sample_bools[chromosome] = sample_bool\n",
    "                \n",
    "                self.freq[chromosome] = allele_freq(callset, variant_bool, sample_bool, 3, chrom)\n",
    "                self.genotypes[chromosome] = match_genotype(callset, variant_bool, sample_bool, chrom)\n",
    "                \n",
    "    def extract_fields(self, dir1, field):\n",
    "        entry = '{dir1}/{field}'.format(dir1=dir1, field = field)\n",
    "        for chromosome in self.chromosomes:\n",
    "            if field == 'GT':\n",
    "                dask = allel.GenotypeDaskArray(self.callset[chromosome][entry])\n",
    "                self.fields[entry][chromosome] = dask.subset(self.variant_bools[chromosome], self.sample_bools[chromosome]).compute()\n",
    "            else: #check the differentiation between AlleleCountsDaskarray and GenotypeDaskArray\n",
    "                dask = allel.AlleleCountsDaskArray(self.callset[chromosome][entry])\n",
    "                variant_selection = dask.compress(self.variant_bools[chromosome], axis=0).compute()\n",
    "                variant_selection = variant_selection[:, self.sample_bools[chromosome]]\n",
    "                self.fields[entry][chromosome] = variant_selection\n",
    "                \n",
    "                \n",
    "Z = Zarr_Parse(sampleList, user_snp_df)\n",
    "Z.extract_fields('calldata', 'GT')\n",
    "Z.extract_fields('calldata', 'DP')\n",
    "Z.extract_fields('calldata', 'AD')\n",
    "\n",
    "\n",
    "#appended_freq = pd.concat(frequencies)\n",
    "#print(appended_freq)\n",
    "#appended_freq.to_csv('~/Desktop/Pf3k_wgsSenegalBCOverlapFrequencies24bc.txt') \n",
    "\n",
    "#appended_geno = pd.concat(genotypes)\n",
    "#print(appended_geno)\n",
    "#appended_geno.to_csv('~/Desktop/Pf3k_wgsSenegalBCOverlapsHaploidGenotype24bc.txt')  \n",
    "\n"
   ]
  },
  {
   "cell_type": "code",
   "execution_count": 16,
   "metadata": {
    "scrolled": false
   },
   "outputs": [
    {
     "ename": "AttributeError",
     "evalue": "module 'dask.array' has no attribute 'from_zarr'",
     "output_type": "error",
     "traceback": [
      "\u001b[1;31m---------------------------------------------------------------------------\u001b[0m",
      "\u001b[1;31mAttributeError\u001b[0m                            Traceback (most recent call last)",
      "\u001b[1;32m<ipython-input-16-04644cabc200>\u001b[0m in \u001b[0;36m<module>\u001b[1;34m()\u001b[0m\n\u001b[1;32m----> 1\u001b[1;33m \u001b[0mda\u001b[0m\u001b[1;33m.\u001b[0m\u001b[0mfrom_zarr\u001b[0m\u001b[1;33m(\u001b[0m\u001b[0mZ\u001b[0m\u001b[1;33m.\u001b[0m\u001b[0mcallset\u001b[0m\u001b[1;33m[\u001b[0m\u001b[1;36m1\u001b[0m\u001b[1;33m]\u001b[0m\u001b[1;33m[\u001b[0m\u001b[1;34m'calldata/AD'\u001b[0m\u001b[1;33m]\u001b[0m\u001b[1;33m)\u001b[0m\u001b[1;33m\u001b[0m\u001b[0m\n\u001b[0m",
      "\u001b[1;31mAttributeError\u001b[0m: module 'dask.array' has no attribute 'from_zarr'"
     ]
    }
   ],
   "source": [
    "da.from_zarr(Z.callset[1]['calldata/AD'])"
   ]
  },
  {
   "cell_type": "code",
   "execution_count": 174,
   "metadata": {},
   "outputs": [
    {
     "ename": "AttributeError",
     "evalue": "module 'dask.array' has no attribute 'from_zarr'",
     "output_type": "error",
     "traceback": [
      "\u001b[1;31m---------------------------------------------------------------------------\u001b[0m",
      "\u001b[1;31mAttributeError\u001b[0m                            Traceback (most recent call last)",
      "\u001b[1;32m<ipython-input-174-8059634a8967>\u001b[0m in \u001b[0;36m<module>\u001b[1;34m()\u001b[0m\n\u001b[0;32m      1\u001b[0m \u001b[1;31m# get the number of reads that align to each of the alleles\u001b[0m\u001b[1;33m\u001b[0m\u001b[1;33m\u001b[0m\u001b[0m\n\u001b[0;32m      2\u001b[0m \u001b[0mad_zarr\u001b[0m\u001b[1;33m=\u001b[0m\u001b[0mZ\u001b[0m\u001b[1;33m.\u001b[0m\u001b[0mcallset\u001b[0m\u001b[1;33m[\u001b[0m\u001b[1;36m1\u001b[0m\u001b[1;33m]\u001b[0m\u001b[1;33m[\u001b[0m\u001b[1;34m'calldata/AD'\u001b[0m\u001b[1;33m]\u001b[0m\u001b[1;33m\u001b[0m\u001b[0m\n\u001b[1;32m----> 3\u001b[1;33m \u001b[0mad_array\u001b[0m\u001b[1;33m=\u001b[0m\u001b[0mda\u001b[0m\u001b[1;33m.\u001b[0m\u001b[0mfrom_zarr\u001b[0m\u001b[1;33m(\u001b[0m\u001b[0mad_zarr\u001b[0m\u001b[1;33m)\u001b[0m\u001b[1;33m\u001b[0m\u001b[0m\n\u001b[0m\u001b[0;32m      4\u001b[0m \u001b[0mad_variant_selection\u001b[0m\u001b[1;33m=\u001b[0m\u001b[0mad_array\u001b[0m\u001b[1;33m[\u001b[0m\u001b[0mvariant_bool\u001b[0m\u001b[1;33m]\u001b[0m\u001b[1;33m\u001b[0m\u001b[0m\n\u001b[0;32m      5\u001b[0m \u001b[0mad_variant_selection\u001b[0m\u001b[1;33m=\u001b[0m\u001b[0mad_variant_selection\u001b[0m\u001b[1;33m[\u001b[0m\u001b[1;33m:\u001b[0m\u001b[1;33m,\u001b[0m\u001b[0msample_bool\u001b[0m\u001b[1;33m,\u001b[0m\u001b[1;33m:\u001b[0m\u001b[1;33m]\u001b[0m\u001b[1;33m\u001b[0m\u001b[0m\n",
      "\u001b[1;31mAttributeError\u001b[0m: module 'dask.array' has no attribute 'from_zarr'"
     ]
    }
   ],
   "source": [
    "# get the number of reads that align to each of the alleles\n",
    "ad_zarr=Z.callset[1]['calldata/AD']\n",
    "\n",
    "ad_array=da.from_zarr(ad_zarr)\n",
    "ad_variant_selection=ad_array[variant_bool]\n",
    "ad_variant_selection=ad_variant_selection[:,sample_bool,:]"
   ]
  },
  {
   "cell_type": "code",
   "execution_count": 17,
   "metadata": {},
   "outputs": [
    {
     "data": {
      "text/plain": [
       "dict_keys(['__name__', '__doc__', '__package__', '__loader__', '__spec__', '__path__', '__file__', '__cached__', '__builtins__', 'absolute_import', 'division', 'print_function', 'ignoring', 'numpy_compat', 'chunk', 'slicing', 'optimization', 'core', 'Array', 'block', 'concatenate', 'stack', 'from_array', 'store', 'map_blocks', 'atop', 'to_hdf5', 'to_npy_stack', 'from_npy_stack', 'from_delayed', 'asarray', 'asanyarray', 'broadcast_to', 'wrap', 'creation', 'routines', 'take', 'choose', 'argwhere', 'where', 'coarsen', 'insert', 'ravel', 'roll', 'unique', 'squeeze', 'topk', 'ptp', 'diff', 'ediff1d', 'bincount', 'digitize', 'histogram', 'cov', 'array', 'dstack', 'vstack', 'hstack', 'compress', 'extract', 'round', 'count_nonzero', 'flatnonzero', 'nonzero', 'around', 'isnull', 'notnull', 'isclose', 'allclose', 'corrcoef', 'swapaxes', 'tensordot', 'transpose', 'dot', 'vdot', 'matmul', 'apply_along_axis', 'apply_over_axes', 'result_type', 'atleast_1d', 'atleast_2d', 'atleast_3d', 'flip', 'flipud', 'fliplr', 'reshape', 'ufunc', 'add', 'subtract', 'multiply', 'divide', 'logaddexp', 'logaddexp2', 'true_divide', 'floor_divide', 'negative', 'power', 'remainder', 'mod', 'conj', 'exp', 'exp2', 'log', 'log2', 'log10', 'log1p', 'expm1', 'sqrt', 'square', 'cbrt', 'reciprocal', 'sin', 'cos', 'tan', 'arcsin', 'arccos', 'arctan', 'arctan2', 'hypot', 'sinh', 'cosh', 'tanh', 'arcsinh', 'arccosh', 'arctanh', 'deg2rad', 'rad2deg', 'greater', 'greater_equal', 'less', 'less_equal', 'not_equal', 'equal', 'logical_and', 'logical_or', 'logical_xor', 'logical_not', 'maximum', 'minimum', 'fmax', 'fmin', 'isreal', 'iscomplex', 'isfinite', 'isinf', 'isnan', 'signbit', 'copysign', 'nextafter', 'spacing', 'ldexp', 'fmod', 'floor', 'ceil', 'trunc', 'degrees', 'radians', 'rint', 'fix', 'angle', 'real', 'imag', 'clip', 'fabs', 'sign', 'absolute', 'i0', 'sinc', 'nan_to_num', 'frexp', 'modf', 'frompyfunc', 'float_power', 'reductions', 'sum', 'prod', 'mean', 'std', 'var', 'any', 'all', 'min', 'max', 'vnorm', 'moment', 'argmin', 'argmax', 'nansum', 'nanmean', 'nanstd', 'nanvar', 'nanmin', 'nanmax', 'nanargmin', 'nanargmax', 'cumsum', 'cumprod', 'percentile', 'nanprod', 'nancumprod', 'nancumsum', 'ma', 'random', 'linalg', 'ghost', 'learn', 'fft', 'ones', 'zeros', 'empty', 'full', 'ones_like', 'zeros_like', 'empty_like', 'full_like', 'rechunk', 'set_options', 'compute', 'optimize', 'arange', 'linspace', 'meshgrid', 'indices', 'diag', 'eye', 'triu', 'tril', 'fromfunction', 'tile', 'repeat'])"
      ]
     },
     "execution_count": 17,
     "metadata": {},
     "output_type": "execute_result"
    }
   ],
   "source": [
    "da.fr"
   ]
  },
  {
   "cell_type": "code",
   "execution_count": 154,
   "metadata": {},
   "outputs": [
    {
     "name": "stdout",
     "output_type": "stream",
     "text": [
      "[[ 38  89  23  58  47  47  44  40 135  74 119 270 108 174 213  44  66  35\n",
      "   35 309  25  82 242 273 101  70  58  84  45 352 197  37  42  18 110 112\n",
      "  105  45 239 130  32  55  29  65  63  37  35  20 155  58 125 174  33 141\n",
      "  234 118 213  18 131 162 185  70 221  27 165  36 258 534 223  50  88 128\n",
      "   56 107 122 263 423 122  23  40  40  87  52 402 199 194  92  35  72 383\n",
      "   60  67 148 543 179 118  43  44  36  35  42 221 148 282  36  48  87 269\n",
      "  130 239 284 315 166  41 191 235 274 197  36  36 130  41 145  76  41  36\n",
      "  115 103  98  94 159 153  36  36  49  84 105]\n",
      " [ 73  96  66  78 146  67 154  67 121  66 163 411 109 216 253  43  91  32\n",
      "  130 387  23  86 299 355 116 535  76 650  26 406 249  37 287  26 117 181\n",
      "  147 107 518 138  34  53  45  53 355 233 140  21 392  69  92 201  52 153\n",
      "  282 204 384  11 193 161 197 257 219  25 249  32 327 695 235  49  81 113\n",
      "  514 144  93 208 302  77  19 150  81  83 372 690 199 248 113 127  83 402\n",
      "  545 112 178 594 124 793 128 165  67 156 535 357 233 347  37  37  93 339\n",
      "  153 340 353 488 151 120 197 350 346 154 135  52 155  42 211  64  95  97\n",
      "   92 172 122 161 199  73 100  75  71 148 132]]\n"
     ]
    }
   ],
   "source": [
    "# pull total number of high quality reads that align to each position per sample\n",
    "dp_zarr = callset['calldata/DP']\n",
    "dp_dask = allel.AlleleCountsDaskArray(dp_zarr)\n",
    "dp_variant_selection = dp_dask.compress(variant_bool, axis=0).compute()\n",
    "dp_variant_selection = dp_variant_selection[:, sample_bool]\n",
    "print(dp_variant_selection)\n",
    "\n",
    "\n",
    "dp_dask = allel.AlleleCountsDaskArray(dp_zarr)\n",
    "\n",
    "user_chrom_snps = user_snps(user_snp_df, chrom)\n",
    "variant_bool = overlap_filter(overlap_avail(user_chrom_snps, callset), variant_filter(callset, 2, 2))\n",
    "dp_variant_selection = dp_dask.compress(variant_bool, axis=0).compute()\n",
    "dp_variant_selection = dp_variant_selection[:, sample_bool]\n",
    "\n",
    "                                      \n",
    "\n",
    "    "
   ]
  },
  {
   "cell_type": "code",
   "execution_count": null,
   "metadata": {},
   "outputs": [],
   "source": []
  }
 ],
 "metadata": {
  "kernelspec": {
   "display_name": "Python 3",
   "language": "python",
   "name": "python3"
  },
  "language_info": {
   "codemirror_mode": {
    "name": "ipython",
    "version": 3
   },
   "file_extension": ".py",
   "mimetype": "text/x-python",
   "name": "python",
   "nbconvert_exporter": "python",
   "pygments_lexer": "ipython3",
   "version": "3.6.4"
  }
 },
 "nbformat": 4,
 "nbformat_minor": 2
}
