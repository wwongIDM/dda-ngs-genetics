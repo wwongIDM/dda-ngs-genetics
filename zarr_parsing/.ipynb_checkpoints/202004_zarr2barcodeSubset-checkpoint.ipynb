{
 "cells": [
  {
   "cell_type": "markdown",
   "metadata": {},
   "source": [
    "# Creating matrices of SNPs from VCF files"
   ]
  },
  {
   "cell_type": "markdown",
   "metadata": {},
   "source": [
    "## Goal\n",
    "\n",
    "Learn to subset variants from Zarr files that can be used in IDM models. \n",
    "\n",
    "The Zarr format is similar to HD5 that will allows to subset large files without loading into memory. For any whole genome sequencing file, variants in a population will be in a VCF format. "
   ]
  },
  {
   "cell_type": "code",
   "execution_count": 1,
   "metadata": {},
   "outputs": [],
   "source": [
    "# load packages - have been installed in vcf virtual env\n",
    "import os, sys\n",
    "import zarr\n",
    "import numpy as np\n",
    "import pandas as pd\n",
    "import allel  \n",
    "import dask.array as da\n",
    "from itertools import compress"
   ]
  },
  {
   "cell_type": "markdown",
   "metadata": {},
   "source": [
    "## Load literature position files\n",
    "\n",
    "These positions files were obtained from Rachel Daniels on 05/07/2020, which updated the positions in the 2008 paper to the Pf3D7v3.1 reference Pf3k WGS samples are aligned."
   ]
  },
  {
   "cell_type": "code",
   "execution_count": 2,
   "metadata": {},
   "outputs": [
    {
     "name": "stdout",
     "output_type": "stream",
     "text": [
      "Number of variants from user:  24\n"
     ]
    }
   ],
   "source": [
    "pos_dir = '/home/jribado/Dropbox (IDM)/parasite_genetics/genomics/senegal'\n",
    "daniels_df = pd.read_csv(os.path.join(pos_dir, \"2008Daniels_BarcodePositions_Updated.txt\"), sep='\\t', header=0)\n",
    "# create a list with the chromosome and position for each study\n",
    "# daniels_pos = [x + \"_\" + str(y) for x, y in zip([\"{:02d}\".format(x) for x in daniels_df[\"chr\"]], daniels_df[\"position\"].tolist())]\n",
    "print(\"Number of variants from user: \", daniels_df.shape[0])"
   ]
  },
  {
   "cell_type": "markdown",
   "metadata": {},
   "source": [
    "## Load variant file "
   ]
  },
  {
   "cell_type": "code",
   "execution_count": 3,
   "metadata": {},
   "outputs": [],
   "source": [
    "# read in zarr files\n",
    "chrom = 1\n",
    "zarr_path = '/home/jribado/Dropbox (IDM)/Data, Dynamics, and Analytics Folder/Projects/malaria_pfcommunity/malaria_pf3k/pf3k_zarr/'\n",
    "zarr_file = zarr_path + 'SNP_INDEL_Pf3D7_' + \"{:02d}\".format(chrom) + '_v3.zarr'\n",
    "callset = zarr.open(zarr_file, mode='r')"
   ]
  },
  {
   "cell_type": "markdown",
   "metadata": {},
   "source": [
    "## Find index overlaps\n",
    "\n",
    "This looks for overlaps without considering quality filtering parameters. Quality metric are applied in the following section. "
   ]
  },
  {
   "cell_type": "code",
   "execution_count": 4,
   "metadata": {},
   "outputs": [
    {
     "name": "stdout",
     "output_type": "stream",
     "text": [
      "Possible variants on chromosome 1 : 159946\n"
     ]
    }
   ],
   "source": [
    "# get the chromosome and position for all possible variants\n",
    "zarr_chrom = [x.split(\"_\",2)[1] for x in callset['variants/CHROM'][:].tolist()]\n",
    "zarr_index = callset['variants/POS'][:].tolist()\n",
    "print(\"Possible variants on chromosome\", chrom, \":\", len(zarr_index))"
   ]
  },
  {
   "cell_type": "code",
   "execution_count": 5,
   "metadata": {},
   "outputs": [
    {
     "name": "stdout",
     "output_type": "stream",
     "text": [
      "Possible variants on chromosome 1 from user defined variant list : 2\n",
      "[130339, 537322]\n"
     ]
    }
   ],
   "source": [
    "# subset the variants on the chromosome of interest\n",
    "#daniels_chrom_sub = daniels_df.loc[daniels_df.chr == chrom]\n",
    "daniels_df['chr']\n",
    "daniels_chrom_sub = daniels_df[daniels_df['chr'].str.contains(\"{:02d}\".format(chrom))]\n",
    "print(\"Possible variants on chromosome\", chrom, \"from user defined variant list :\", daniels_chrom_sub.shape[0])\n",
    "print(daniels_chrom_sub[\"position\"].tolist())"
   ]
  },
  {
   "cell_type": "code",
   "execution_count": 41,
   "metadata": {},
   "outputs": [
    {
     "name": "stdout",
     "output_type": "stream",
     "text": [
      "159946\n",
      "Number of overlapping variants from VCF and user defined variant list on chromosome 01 : 2\n",
      "Overlapping positions on chromsome 01 : [ 57944 114554]\n"
     ]
    }
   ],
   "source": [
    "user_overlap = [i in daniels_chrom_sub[\"position\"].tolist() for i in zarr_index]\n",
    "print(len(user_overlap))\n",
    "print(\"Number of overlapping variants from VCF and user defined variant list on chromosome\", chrom, \":\", np.count_nonzero(user_overlap))\n",
    "print(\"Overlapping positions on chromsome\", chrom, \":\", np.where(user_overlap)[0])"
   ]
  },
  {
   "cell_type": "markdown",
   "metadata": {},
   "source": [
    "Yay! The updated positions are in the VCF file, which means we can rely on standard recalibration calls to minimize errors :). \n",
    "\n",
    "We are less concerned about non-Senegal samples at the moment. We can filter those out. "
   ]
  },
  {
   "cell_type": "code",
   "execution_count": 7,
   "metadata": {},
   "outputs": [
    {
     "name": "stdout",
     "output_type": "stream",
     "text": [
      "137\n"
     ]
    }
   ],
   "source": [
    "sen_bool = np.array([\"Sen\" in i for i in np.array(callset['samples']).tolist()])\n",
    "print(np.count_nonzero(sen_bool))\n",
    "sen_names = list(compress(np.array(callset['samples']).tolist(), sen_bool))"
   ]
  },
  {
   "cell_type": "markdown",
   "metadata": {},
   "source": [
    "## Pull variant information\n",
    "\n",
    "Now that fun part, actually getting the relevant information! These two sections will highlight pulling genotypes or count information for different alleles. \n",
    "\n",
    "I recommend filtering the variants based on MalariaGen guidelines. The two variables that can be relaxed below ate the number of alternative alleles and the VSQLOD score. Currently it is set to only pull biallelic SNPs, but can be changed to pull muliallelic sites. The VSQLOD score is a ratio of SNP position testing Gaussian mixture models for the probability of true SNPs in a good and bad model. The higher the score, the more confident you can be in the call. Anything above 1 is considered technucally \"true\" if this needs to be relaxed to include more variants (Pfv6 uses a filter of 6). \n",
    "\n",
    "More info on VQSLOD scores: https://qcb.ucla.edu/wp-content/uploads/sites/14/2016/03/GATKwr12-6-Variant_filtering.pdf"
   ]
  },
  {
   "cell_type": "code",
   "execution_count": 8,
   "metadata": {},
   "outputs": [
    {
     "name": "stdout",
     "output_type": "stream",
     "text": [
      "Number of filtered genes: 17887\n"
     ]
    }
   ],
   "source": [
    "# get high quality snps for pfv6 to find overlaps\n",
    "quality_set = callset['variants/FILTER_PASS'][:]\n",
    "snp_set = callset['variants/is_snp'][:]\n",
    "vsqlod_set = callset['variants/VQSLOD'][:]  > 2\n",
    "biallelic_set = callset['variants/numalt'][:] < 3\n",
    "variant_hq = quality_set & snp_set & vsqlod_set & biallelic_set\n",
    "print(\"Number of filtered genes:\", np.count_nonzero(variant_hq))"
   ]
  },
  {
   "cell_type": "code",
   "execution_count": 9,
   "metadata": {},
   "outputs": [
    {
     "name": "stdout",
     "output_type": "stream",
     "text": [
      "<class 'numpy.ndarray'>\n"
     ]
    },
    {
     "data": {
      "text/plain": [
       "2"
      ]
     },
     "execution_count": 9,
     "metadata": {},
     "output_type": "execute_result"
    }
   ],
   "source": [
    "variant_keep = quality_set & snp_set & vsqlod_set & biallelic_set & user_overlap\n",
    "print(type(variant_keep))\n",
    "np.count_nonzero(variant_keep)"
   ]
  },
  {
   "cell_type": "markdown",
   "metadata": {},
   "source": [
    "### Genotype matrix"
   ]
  },
  {
   "cell_type": "code",
   "execution_count": 33,
   "metadata": {},
   "outputs": [],
   "source": [
    "gt_zarr = callset['calldata/GT']\n",
    "gt_dask = allel.GenotypeDaskArray(gt_zarr)\n",
    "gt_daskSub = gt_dask.subset(variant_keep, sen_bool).compute()"
   ]
  },
  {
   "cell_type": "code",
   "execution_count": 11,
   "metadata": {},
   "outputs": [
    {
     "data": {
      "text/html": [
       "<div>\n",
       "<style scoped>\n",
       "    .dataframe tbody tr th:only-of-type {\n",
       "        vertical-align: middle;\n",
       "    }\n",
       "\n",
       "    .dataframe tbody tr th {\n",
       "        vertical-align: top;\n",
       "    }\n",
       "\n",
       "    .dataframe thead th {\n",
       "        text-align: right;\n",
       "    }\n",
       "</style>\n",
       "<table border=\"1\" class=\"dataframe\">\n",
       "  <thead>\n",
       "    <tr style=\"text-align: right;\">\n",
       "      <th></th>\n",
       "      <th>REF</th>\n",
       "      <th>ALT1</th>\n",
       "      <th>ALT2</th>\n",
       "    </tr>\n",
       "  </thead>\n",
       "  <tbody>\n",
       "    <tr>\n",
       "      <th>Pf3D7_01_v3:130339</th>\n",
       "      <td>0.302920</td>\n",
       "      <td>0.697080</td>\n",
       "      <td>0.0</td>\n",
       "    </tr>\n",
       "    <tr>\n",
       "      <th>Pf3D7_01_v3:537322</th>\n",
       "      <td>0.021898</td>\n",
       "      <td>0.978102</td>\n",
       "      <td>0.0</td>\n",
       "    </tr>\n",
       "  </tbody>\n",
       "</table>\n",
       "</div>"
      ],
      "text/plain": [
       "                         REF      ALT1  ALT2\n",
       "Pf3D7_01_v3:130339  0.302920  0.697080   0.0\n",
       "Pf3D7_01_v3:537322  0.021898  0.978102   0.0"
      ]
     },
     "execution_count": 11,
     "metadata": {},
     "output_type": "execute_result"
    }
   ],
   "source": [
    "ac     = gt_daskSub.count_alleles(max_allele=2)\n",
    "sub_af = ac/ac.sum(axis=1, keepdims=True)\n",
    "pd.DataFrame(sub_af,\n",
    "             index=[\"Pf3D7_\" + str(\"{:02d}\".format(chrom)) + \"_v3:\" + str(x) for x in np.array(callset['variants/POS'][:])[variant_keep]],\n",
    "             columns=[\"REF\", \"ALT1\", \"ALT2\"])"
   ]
  },
  {
   "cell_type": "markdown",
   "metadata": {},
   "source": [
    "This is not an elegant \"Pythonic way\" to pull genotypes, but it works. Would be thrilled to learn a better way to loop through 3D Numpy arrays to make this faster. "
   ]
  },
  {
   "cell_type": "code",
   "execution_count": 12,
   "metadata": {},
   "outputs": [],
   "source": [
    "def gt_merge(list1, list2, j):\n",
    "    dic = {-1:\"X\", \n",
    "           0: np.array(callset['variants/REF'][:])[variant_keep][j], \n",
    "           1: np.array(callset['variants/ALT'][:])[variant_keep][j,0], \n",
    "           2: np.array(callset['variants/ALT'][:])[variant_keep][j,1],\n",
    "           3: np.array(callset['variants/ALT'][:])[variant_keep][j,2]}\n",
    "    merged_list = []\n",
    "    for i in range(0, len(list1)):\n",
    "        if list1[i] == list2[i]:\n",
    "            if list1[i] == -1:\n",
    "                merged_list.append(\"X\")\n",
    "            else:\n",
    "                merged_list.append(list1[i])\n",
    "        else:\n",
    "            merged_list.append(\"N\") \n",
    "    merged_replace=[dic.get(n, n) for n in merged_list]  \n",
    "    return(merged_replace)"
   ]
  },
  {
   "cell_type": "code",
   "execution_count": 13,
   "metadata": {},
   "outputs": [
    {
     "name": "stdout",
     "output_type": "stream",
     "text": [
      "                   SenP005.02 SenP008.04 SenP011.02 SenP019.04 SenP027.02  \\\n",
      "Pf3D7_01_v3:130339          C          T          T          C          C   \n",
      "Pf3D7_01_v3:537322          A          A          A          A          A   \n",
      "\n",
      "                   SenP031.01 SenP051.02 SenP060.02 SenT001.08 SenT001.11  \\\n",
      "Pf3D7_01_v3:130339          T          C          T          T          N   \n",
      "Pf3D7_01_v3:537322          A          A          A          A          A   \n",
      "\n",
      "                    ... SenT230.08 SenT231.08 SenT232.08 SenT233.08  \\\n",
      "Pf3D7_01_v3:130339  ...          T          T          T          T   \n",
      "Pf3D7_01_v3:537322  ...          A          A          A          A   \n",
      "\n",
      "                   SenT235.08 SenT236.08 SenV034.04 SenV035.04 SenV042.05  \\\n",
      "Pf3D7_01_v3:130339          T          C          C          T          T   \n",
      "Pf3D7_01_v3:537322          A          A          A          A          A   \n",
      "\n",
      "                   SenV092.05  \n",
      "Pf3D7_01_v3:130339          T  \n",
      "Pf3D7_01_v3:537322          A  \n",
      "\n",
      "[2 rows x 137 columns]\n"
     ]
    }
   ],
   "source": [
    "data = []\n",
    "for j in range(0, len(gt_daskSub)):\n",
    "    data.append(gt_merge(gt_daskSub[j,:,0], gt_daskSub[j,:,1], j))\n",
    "df = pd.DataFrame(data,\n",
    "                 index=[\"Pf3D7_\" + str(\"{:02d}\".format(chrom)) + \"_v3:\" + str(x) for x in np.array(callset['variants/POS'][:])[variant_keep]],\n",
    "                 columns=sen_names)\n",
    "print(df)"
   ]
  },
  {
   "cell_type": "code",
   "execution_count": 68,
   "metadata": {},
   "outputs": [],
   "source": [
    "# define functions from working pieces above\n",
    "def variant_filter(callset, vsqlod_min, num_alt):\n",
    "    quality_set = callset['variants/FILTER_PASS'][:]\n",
    "    snp_set = callset['variants/is_snp'][:]\n",
    "    vsqlod_set = callset['variants/VQSLOD'][:]  > vsqlod_min\n",
    "    alt_set = callset['variants/numalt'][:] < num_alt + 1 \n",
    "    variant_hq = quality_set & snp_set & vsqlod_set & alt_set\n",
    "    return(variant_hq)\n",
    "    \n",
    "def read_zarr(chrom, zarr_path):\n",
    "    # zarr_file = zarr_path + 'SNP_INDEL_Pf3D7_' + \"{:02d}\".format(chrom) + '_v3.zarr'\n",
    "    zarr_file = zarr_path + 'SNP_INDEL_Pf3D7_' + chrom + '_v3.zarr'\n",
    "    callset = zarr.open(zarr_file, mode='r')\n",
    "    return(callset)\n",
    "\n",
    "def overlap_avail(user_pos_list, callset):\n",
    "    zarr_index   = callset['variants/POS'][:].tolist()\n",
    "    user_overlap =  [i in user_pos_list for i in zarr_index]\n",
    "    return(user_overlap)\n",
    "    \n",
    "def overlap_filter(user_snps, filter_snps):\n",
    "        return(user_snps & filter_snps)\n",
    "        \n",
    "def user_snps(user_df, chrom):\n",
    "    user_df  = pd.read_csv(user_df, sep='\\t', header=0)\n",
    "    user_sub = user_df[user_df['chr'].str.contains(chrom)]\n",
    "    return(user_sub[\"position\"].tolist())\n",
    "\n",
    "def gt_subset(callset, variant_bool, sample_bool):\n",
    "    gt_zarr = callset['calldata/GT']\n",
    "    gt_dask = allel.GenotypeDaskArray(gt_zarr)\n",
    "    gt_daskSub = gt_dask.subset(variant_bool, sample_bool).compute()\n",
    "\n",
    "def allele_freq(callset, variant_bool, sample_bool, num_alt):\n",
    "    gt_zarr = callset['calldata/GT']\n",
    "    gt_dask = allel.GenotypeDaskArray(gt_zarr)\n",
    "    gt_daskSub = gt_dask.subset(variant_bool, sample_bool).compute()\n",
    "    print(gt_daskSub)\n",
    "    # count number of alleles\n",
    "    ac = gt_daskSub.count_alleles(max_allele=num_alt)\n",
    "    sub_af = ac/ac.sum(axis=1, keepdims=True)\n",
    "    print(type(sub_af))\n",
    "    sub_df = pd.DataFrame(sub_af,\n",
    "                 index=[\"Pf3D7_\" + chrom + \"_v3:\" + str(x) for x in np.array(callset['variants/POS'][:])[variant_bool]],\n",
    "                 columns=[\"REF\"] + [\"ALT\" + str(x) for x in range(1, num_alt + 1)])\n",
    "    return(sub_df)"
   ]
  },
  {
   "cell_type": "code",
   "execution_count": 69,
   "metadata": {},
   "outputs": [
    {
     "name": "stdout",
     "output_type": "stream",
     "text": [
      "0/0 1/1 1/1 0/0 0/0 ... 0/0 0/0 1/1 1/1 1/1\n",
      "1/1 1/1 1/1 1/1 1/1 ... 1/1 1/1 1/1 1/1 1/1\n",
      "\n",
      "<class 'numpy.ndarray'>\n",
      "                         REF      ALT1  ALT2  ALT3\n",
      "Pf3D7_01_v3:130339  0.302920  0.697080   0.0   0.0\n",
      "Pf3D7_01_v3:537322  0.021898  0.978102   0.0   0.0\n",
      "1/1 0/1 1/1 0/0 1/1 ... 0/0 1/1 1/1 0/0 0/0\n",
      "\n",
      "<class 'numpy.ndarray'>\n",
      "                         REF      ALT1  ALT2  ALT3\n",
      "Pf3D7_02_v3:842805  0.722222  0.277778   0.0   0.0\n"
     ]
    }
   ],
   "source": [
    "num_alt = 3\n",
    "positions = []\n",
    "\n",
    "\n",
    "for i in [1,2]:\n",
    "    chrom = \"{:02d}\".format(i)\n",
    "    zarr_path = '/home/jribado/Dropbox (IDM)/Data, Dynamics, and Analytics Folder/Projects/malaria_pfcommunity/malaria_pf3k/pf3k_zarr/'\n",
    "    callset = read_zarr(chrom, zarr_path)\n",
    "  \n",
    "    daniels_snps=user_snps(os.path.join(pos_dir, \"2008Daniels_BarcodePositions_Updated.txt\"), chrom)\n",
    "    variant_bool = overlap_filter(overlap_avail(daniels_snps, callset), variant_filter(callset, 2, num_alt))\n",
    "    sample_bool  = np.array([\"Sen\" in i for i in np.array(callset['samples']).tolist()])\n",
    "    freq =allele_freq(callset, variant_bool, sample_bool, 3)\n",
    "    print(freq)\n",
    "    #zarr_overlap = overlap_filter(overlap_avail(danials_snps, callset), hq_snps)\n",
    "   # print(zarr_overlap)\n",
    "    \n",
    "    "
   ]
  },
  {
   "cell_type": "markdown",
   "metadata": {},
   "source": [
    "### Counts matrix\n",
    "\n",
    "The counts matrix would give a good sense for the proportion of reads that align to each allele. This is great to consider if expanding any models to handle polyinfections at \"biallelic\" sites or multiallelic sites. Change the allele count array to pull the 1, 2, 3..,n allele in each sequence. "
   ]
  },
  {
   "cell_type": "code",
   "execution_count": 21,
   "metadata": {},
   "outputs": [],
   "source": [
    "# pull total number of high quality reads that align to each position per sample\n",
    "dp_zarr = callset['calldata/DP']\n",
    "dp_dask = allel.AlleleCountsDaskArray(dp_zarr)\n",
    "dp_variant_selection = dp_dask.compress(user_overlap, axis=0).compute()"
   ]
  },
  {
   "cell_type": "code",
   "execution_count": 27,
   "metadata": {},
   "outputs": [
    {
     "data": {
      "text/html": [
       "<div class=\"allel allel-DisplayAs2D\"><span>&lt;AlleleCountsArray shape=(8, 2640) dtype=int16&gt;</span><table><thead><tr><th></th><th style=\"text-align: center\">0</th><th style=\"text-align: center\">1</th><th style=\"text-align: center\">2</th><th style=\"text-align: center\">3</th><th style=\"text-align: center\">4</th><th style=\"text-align: center\">...</th><th style=\"text-align: center\">2635</th><th style=\"text-align: center\">2636</th><th style=\"text-align: center\">2637</th><th style=\"text-align: center\">2638</th><th style=\"text-align: center\">2639</th></tr></thead><tbody><tr><th style=\"text-align: center; background-color: white; border-right: 1px solid black; \">0</th><td style=\"text-align: center\"> 70</td><td style=\"text-align: center\"> 33</td><td style=\"text-align: center\"> 24</td><td style=\"text-align: center\"> 24</td><td style=\"text-align: center\"> 82</td><td style=\"text-align: center\">...</td><td style=\"text-align: center\"> 38</td><td style=\"text-align: center\"> 40</td><td style=\"text-align: center\"> 39</td><td style=\"text-align: center\"> 41</td><td style=\"text-align: center\"> 62</td></tr><tr><th style=\"text-align: center; background-color: white; border-right: 1px solid black; \">1</th><td style=\"text-align: center\"> 65</td><td style=\"text-align: center\"> 35</td><td style=\"text-align: center\"> 21</td><td style=\"text-align: center\"> 26</td><td style=\"text-align: center\">112</td><td style=\"text-align: center\">...</td><td style=\"text-align: center\"> 53</td><td style=\"text-align: center\"> 59</td><td style=\"text-align: center\"> 40</td><td style=\"text-align: center\"> 44</td><td style=\"text-align: center\"> 41</td></tr><tr><th style=\"text-align: center; background-color: white; border-right: 1px solid black; \">2</th><td style=\"text-align: center\">122</td><td style=\"text-align: center\"> 23</td><td style=\"text-align: center\"> 26</td><td style=\"text-align: center\"> 22</td><td style=\"text-align: center\">120</td><td style=\"text-align: center\">...</td><td style=\"text-align: center\"> 55</td><td style=\"text-align: center\"> 59</td><td style=\"text-align: center\"> 58</td><td style=\"text-align: center\">114</td><td style=\"text-align: center\"> 52</td></tr><tr><th style=\"text-align: center; background-color: white; border-right: 1px solid black; \">...</th><td style=\"text-align: center\" colspan=\"12\">...</td></tr><tr><th style=\"text-align: center; background-color: white; border-right: 1px solid black; \">5</th><td style=\"text-align: center\"> 133</td><td style=\"text-align: center\">  39</td><td style=\"text-align: center\">  36</td><td style=\"text-align: center\">  24</td><td style=\"text-align: center\"> 136</td><td style=\"text-align: center\">...</td><td style=\"text-align: center\">  64</td><td style=\"text-align: center\">  43</td><td style=\"text-align: center\">  67</td><td style=\"text-align: center\"> 123</td><td style=\"text-align: center\"> 127</td></tr><tr><th style=\"text-align: center; background-color: white; border-right: 1px solid black; \">6</th><td style=\"text-align: center\">  47</td><td style=\"text-align: center\">  36</td><td style=\"text-align: center\">  29</td><td style=\"text-align: center\">  29</td><td style=\"text-align: center\">  60</td><td style=\"text-align: center\">...</td><td style=\"text-align: center\">  80</td><td style=\"text-align: center\">  28</td><td style=\"text-align: center\">  38</td><td style=\"text-align: center\">  85</td><td style=\"text-align: center\">  84</td></tr><tr><th style=\"text-align: center; background-color: white; border-right: 1px solid black; \">7</th><td style=\"text-align: center\"> 143</td><td style=\"text-align: center\">  25</td><td style=\"text-align: center\">  22</td><td style=\"text-align: center\">  25</td><td style=\"text-align: center\"> 123</td><td style=\"text-align: center\">...</td><td style=\"text-align: center\"> 105</td><td style=\"text-align: center\">  43</td><td style=\"text-align: center\">  80</td><td style=\"text-align: center\"> 151</td><td style=\"text-align: center\"> 142</td></tr></tbody></table></div>"
      ],
      "text/plain": [
       "<AlleleCountsArray shape=(8, 2640) dtype=int16>\n",
       " 70  33  24  24  82 ...  38  40  39  41  62\n",
       " 65  35  21  26 112 ...  53  59  40  44  41\n",
       "122  23  26  22 120 ...  55  59  58 114  52\n",
       "...\n",
       " 133   39   36   24  136 ...   64   43   67  123  127\n",
       "  47   36   29   29   60 ...   80   28   38   85   84\n",
       " 143   25   22   25  123 ...  105   43   80  151  142"
      ]
     },
     "execution_count": 27,
     "metadata": {},
     "output_type": "execute_result"
    }
   ],
   "source": [
    "dp_variant_selection"
   ]
  },
  {
   "cell_type": "code",
   "execution_count": 129,
   "metadata": {},
   "outputs": [],
   "source": [
    "# get the number of reads that align to each of the alleles\n",
    "ad_zarr=callset['calldata/AD']\n",
    "ad_array=da.from_zarr(ad_zarr)\n",
    "ad_variant_selection=ad_array[user_overlap]"
   ]
  },
  {
   "cell_type": "code",
   "execution_count": 130,
   "metadata": {},
   "outputs": [],
   "source": [
    "# pull the first item in the allele count array to get the reference count\n",
    "ad_array_ref=ad_variant_selection[:,:,0]\n",
    "ad_array_ref=ad_array_ref.compute()"
   ]
  },
  {
   "cell_type": "code",
   "execution_count": 131,
   "metadata": {},
   "outputs": [
    {
     "data": {
      "text/plain": [
       "True"
      ]
     },
     "execution_count": 131,
     "metadata": {},
     "output_type": "execute_result"
    }
   ],
   "source": [
    "# check both data frames have the same dimension\n",
    "np.shape(ad_array_ref) == np.shape(dp_variant_selection)"
   ]
  },
  {
   "cell_type": "code",
   "execution_count": 132,
   "metadata": {},
   "outputs": [],
   "source": [
    "# ignore zero division for site where one population may have an allele but other samples may not have adequate coverage\n",
    "np.seterr(divide='ignore', invalid='ignore')\n",
    "ref_het_calc=ad_array_ref/dp_variant_selection"
   ]
  },
  {
   "cell_type": "code",
   "execution_count": 135,
   "metadata": {},
   "outputs": [
    {
     "ename": "TypeError",
     "evalue": "unsupported format string passed to list.__format__",
     "output_type": "error",
     "traceback": [
      "\u001b[0;31m---------------------------------------------------------------------------\u001b[0m",
      "\u001b[0;31mTypeError\u001b[0m                                 Traceback (most recent call last)",
      "\u001b[0;32m<ipython-input-135-d3ab5baf9fc1>\u001b[0m in \u001b[0;36m<module>\u001b[0;34m\u001b[0m\n\u001b[1;32m      3\u001b[0m \u001b[0mchrom\u001b[0m \u001b[0;34m=\u001b[0m \u001b[0;34m[\u001b[0m\u001b[0;34m\"chr\"\u001b[0m\u001b[0;34m+\u001b[0m\u001b[0mx\u001b[0m\u001b[0;34m.\u001b[0m\u001b[0msplit\u001b[0m\u001b[0;34m(\u001b[0m\u001b[0;34m\"_\"\u001b[0m\u001b[0;34m,\u001b[0m\u001b[0;36m2\u001b[0m\u001b[0;34m)\u001b[0m\u001b[0;34m[\u001b[0m\u001b[0;36m1\u001b[0m\u001b[0;34m]\u001b[0m \u001b[0;32mfor\u001b[0m \u001b[0mx\u001b[0m \u001b[0;32min\u001b[0m \u001b[0mcallset\u001b[0m\u001b[0;34m[\u001b[0m\u001b[0;34m'variants/CHROM'\u001b[0m\u001b[0;34m]\u001b[0m\u001b[0;34m[\u001b[0m\u001b[0;34m:\u001b[0m\u001b[0;34m]\u001b[0m\u001b[0;34m[\u001b[0m\u001b[0mpos_keep\u001b[0m\u001b[0;34m]\u001b[0m\u001b[0;34m.\u001b[0m\u001b[0mtolist\u001b[0m\u001b[0;34m(\u001b[0m\u001b[0;34m)\u001b[0m\u001b[0;34m]\u001b[0m\u001b[0;34m\u001b[0m\u001b[0;34m\u001b[0m\u001b[0m\n\u001b[1;32m      4\u001b[0m \u001b[0mpos\u001b[0m \u001b[0;34m=\u001b[0m \u001b[0mcallset\u001b[0m\u001b[0;34m[\u001b[0m\u001b[0;34m'variants/POS'\u001b[0m\u001b[0;34m]\u001b[0m\u001b[0;34m[\u001b[0m\u001b[0;34m:\u001b[0m\u001b[0;34m]\u001b[0m\u001b[0;34m[\u001b[0m\u001b[0mpos_keep\u001b[0m\u001b[0;34m]\u001b[0m\u001b[0;34m.\u001b[0m\u001b[0mtolist\u001b[0m\u001b[0;34m(\u001b[0m\u001b[0;34m)\u001b[0m\u001b[0;34m\u001b[0m\u001b[0;34m\u001b[0m\u001b[0m\n\u001b[0;32m----> 5\u001b[0;31m \u001b[0mpos_index\u001b[0m \u001b[0;34m=\u001b[0m \u001b[0;34m[\u001b[0m\u001b[0;34m\"Pf3D7_\"\u001b[0m \u001b[0;34m+\u001b[0m \u001b[0mstr\u001b[0m\u001b[0;34m(\u001b[0m\u001b[0;34m\"{:02d}\"\u001b[0m\u001b[0;34m.\u001b[0m\u001b[0mformat\u001b[0m\u001b[0;34m(\u001b[0m\u001b[0mchrom\u001b[0m\u001b[0;34m)\u001b[0m\u001b[0;34m)\u001b[0m \u001b[0;34m+\u001b[0m \u001b[0;34m\"_v3:\"\u001b[0m \u001b[0;34m+\u001b[0m \u001b[0mstr\u001b[0m\u001b[0;34m(\u001b[0m\u001b[0mx\u001b[0m\u001b[0;34m)\u001b[0m \u001b[0;32mfor\u001b[0m \u001b[0mx\u001b[0m \u001b[0;32min\u001b[0m \u001b[0mnp\u001b[0m\u001b[0;34m.\u001b[0m\u001b[0marray\u001b[0m\u001b[0;34m(\u001b[0m\u001b[0mcallset\u001b[0m\u001b[0;34m[\u001b[0m\u001b[0;34m'variants/POS'\u001b[0m\u001b[0;34m]\u001b[0m\u001b[0;34m[\u001b[0m\u001b[0;34m:\u001b[0m\u001b[0;34m]\u001b[0m\u001b[0;34m)\u001b[0m\u001b[0;34m[\u001b[0m\u001b[0mvariant_keep\u001b[0m\u001b[0;34m]\u001b[0m\u001b[0;34m]\u001b[0m\u001b[0;34m\u001b[0m\u001b[0;34m\u001b[0m\u001b[0m\n\u001b[0m\u001b[1;32m      6\u001b[0m \u001b[0;34m\u001b[0m\u001b[0m\n\u001b[1;32m      7\u001b[0m het_df=pd.DataFrame(data=ref_het_calc,\n",
      "\u001b[0;32m<ipython-input-135-d3ab5baf9fc1>\u001b[0m in \u001b[0;36m<listcomp>\u001b[0;34m(.0)\u001b[0m\n\u001b[1;32m      3\u001b[0m \u001b[0mchrom\u001b[0m \u001b[0;34m=\u001b[0m \u001b[0;34m[\u001b[0m\u001b[0;34m\"chr\"\u001b[0m\u001b[0;34m+\u001b[0m\u001b[0mx\u001b[0m\u001b[0;34m.\u001b[0m\u001b[0msplit\u001b[0m\u001b[0;34m(\u001b[0m\u001b[0;34m\"_\"\u001b[0m\u001b[0;34m,\u001b[0m\u001b[0;36m2\u001b[0m\u001b[0;34m)\u001b[0m\u001b[0;34m[\u001b[0m\u001b[0;36m1\u001b[0m\u001b[0;34m]\u001b[0m \u001b[0;32mfor\u001b[0m \u001b[0mx\u001b[0m \u001b[0;32min\u001b[0m \u001b[0mcallset\u001b[0m\u001b[0;34m[\u001b[0m\u001b[0;34m'variants/CHROM'\u001b[0m\u001b[0;34m]\u001b[0m\u001b[0;34m[\u001b[0m\u001b[0;34m:\u001b[0m\u001b[0;34m]\u001b[0m\u001b[0;34m[\u001b[0m\u001b[0mpos_keep\u001b[0m\u001b[0;34m]\u001b[0m\u001b[0;34m.\u001b[0m\u001b[0mtolist\u001b[0m\u001b[0;34m(\u001b[0m\u001b[0;34m)\u001b[0m\u001b[0;34m]\u001b[0m\u001b[0;34m\u001b[0m\u001b[0;34m\u001b[0m\u001b[0m\n\u001b[1;32m      4\u001b[0m \u001b[0mpos\u001b[0m \u001b[0;34m=\u001b[0m \u001b[0mcallset\u001b[0m\u001b[0;34m[\u001b[0m\u001b[0;34m'variants/POS'\u001b[0m\u001b[0;34m]\u001b[0m\u001b[0;34m[\u001b[0m\u001b[0;34m:\u001b[0m\u001b[0;34m]\u001b[0m\u001b[0;34m[\u001b[0m\u001b[0mpos_keep\u001b[0m\u001b[0;34m]\u001b[0m\u001b[0;34m.\u001b[0m\u001b[0mtolist\u001b[0m\u001b[0;34m(\u001b[0m\u001b[0;34m)\u001b[0m\u001b[0;34m\u001b[0m\u001b[0;34m\u001b[0m\u001b[0m\n\u001b[0;32m----> 5\u001b[0;31m \u001b[0mpos_index\u001b[0m \u001b[0;34m=\u001b[0m \u001b[0;34m[\u001b[0m\u001b[0;34m\"Pf3D7_\"\u001b[0m \u001b[0;34m+\u001b[0m \u001b[0mstr\u001b[0m\u001b[0;34m(\u001b[0m\u001b[0;34m\"{:02d}\"\u001b[0m\u001b[0;34m.\u001b[0m\u001b[0mformat\u001b[0m\u001b[0;34m(\u001b[0m\u001b[0mchrom\u001b[0m\u001b[0;34m)\u001b[0m\u001b[0;34m)\u001b[0m \u001b[0;34m+\u001b[0m \u001b[0;34m\"_v3:\"\u001b[0m \u001b[0;34m+\u001b[0m \u001b[0mstr\u001b[0m\u001b[0;34m(\u001b[0m\u001b[0mx\u001b[0m\u001b[0;34m)\u001b[0m \u001b[0;32mfor\u001b[0m \u001b[0mx\u001b[0m \u001b[0;32min\u001b[0m \u001b[0mnp\u001b[0m\u001b[0;34m.\u001b[0m\u001b[0marray\u001b[0m\u001b[0;34m(\u001b[0m\u001b[0mcallset\u001b[0m\u001b[0;34m[\u001b[0m\u001b[0;34m'variants/POS'\u001b[0m\u001b[0;34m]\u001b[0m\u001b[0;34m[\u001b[0m\u001b[0;34m:\u001b[0m\u001b[0;34m]\u001b[0m\u001b[0;34m)\u001b[0m\u001b[0;34m[\u001b[0m\u001b[0mvariant_keep\u001b[0m\u001b[0;34m]\u001b[0m\u001b[0;34m]\u001b[0m\u001b[0;34m\u001b[0m\u001b[0;34m\u001b[0m\u001b[0m\n\u001b[0m\u001b[1;32m      6\u001b[0m \u001b[0;34m\u001b[0m\u001b[0m\n\u001b[1;32m      7\u001b[0m het_df=pd.DataFrame(data=ref_het_calc,\n",
      "\u001b[0;31mTypeError\u001b[0m: unsupported format string passed to list.__format__"
     ]
    }
   ],
   "source": [
    "# assign the row names that correspond to the chromosome and position\n",
    "pos_keep = np.where(user_overlap)[0]\n",
    "chrom = [\"chr\"+x.split(\"_\",2)[1] for x in callset['variants/CHROM'][:][pos_keep].tolist()]\n",
    "pos = callset['variants/POS'][:][pos_keep].tolist()\n",
    "pos_index = [\"Pf3D7_\" + str(\"{:02d}\".format(chrom)) + \"_v3:\" + str(x) for x in np.array(callset['variants/POS'][:])[variant_keep]]\n",
    "\n",
    "het_df=pd.DataFrame(data=ref_het_calc,\n",
    "                     index=pos_index,\n",
    "                     columns=callset['samples'])\n",
    "het_df\n",
    "# het_df.to_csv('~/Desktop/alleleCounts_test.csv', header=True, index=True, sep=\"\\t\")"
   ]
  },
  {
   "cell_type": "code",
   "execution_count": null,
   "metadata": {},
   "outputs": [],
   "source": []
  }
 ],
 "metadata": {
  "kernelspec": {
   "display_name": "Python 3",
   "language": "python",
   "name": "python3"
  },
  "language_info": {
   "codemirror_mode": {
    "name": "ipython",
    "version": 3
   },
   "file_extension": ".py",
   "mimetype": "text/x-python",
   "name": "python",
   "nbconvert_exporter": "python",
   "pygments_lexer": "ipython3",
   "version": "3.6.9"
  }
 },
 "nbformat": 4,
 "nbformat_minor": 2
}
