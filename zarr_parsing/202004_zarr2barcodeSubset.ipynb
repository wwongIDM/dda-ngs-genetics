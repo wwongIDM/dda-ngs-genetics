{
 "cells": [
  {
   "cell_type": "markdown",
   "metadata": {},
   "source": [
    "# Creating matrices of SNPs from VCF files"
   ]
  },
  {
   "cell_type": "markdown",
   "metadata": {},
   "source": [
    "## Goal\n",
    "\n",
    "Learn to subset variants from Zarr files that can be used in IDM models. \n",
    "\n",
    "The Zarr format is similar to HD5 that will allows to subset large files without loading into memory. For any whole genome sequencing file, variants in a population will be in a VCF format. "
   ]
  },
  {
   "cell_type": "code",
   "execution_count": 2,
   "metadata": {},
   "outputs": [],
   "source": [
    "# load packages - have been installed in vcf virtual env\n",
    "import os, sys\n",
    "import zarr\n",
    "import numpy as np\n",
    "import pandas as pd\n",
    "import allel  \n",
    "import dask.array as da"
   ]
  },
  {
   "cell_type": "markdown",
   "metadata": {},
   "source": [
    "## Load literature position files\n",
    "\n",
    "These positions files were generated from tables in the papers since accompaying files with the chromosome and position were not available. Additional file 4 from Daniels 2018 was manually copied. "
   ]
  },
  {
   "cell_type": "code",
   "execution_count": 152,
   "metadata": {},
   "outputs": [
    {
     "name": "stdout",
     "output_type": "stream",
     "text": [
      "Number of variants from user:  24\n"
     ]
    }
   ],
   "source": [
    "pos_dir = '/home/jribado/Dropbox (IDM)/Data, Dynamics, and Analytics Folder/Projects/malaria_pfcommunity/'\n",
    "daniels_df = pd.read_csv(os.path.join(pos_dir, \"2008Daniels_BarcodePositions.txt\"), sep='\\t', header=0)\n",
    "# create a list with the chromosome and position for each study\n",
    "# daniels_pos = [x + \"_\" + str(y) for x, y in zip([\"{:02d}\".format(x) for x in daniels_df[\"chr\"]], daniels_df[\"position\"].tolist())]\n",
    "print(\"Number of variants from user: \", daniels_df.shape[0])"
   ]
  },
  {
   "cell_type": "markdown",
   "metadata": {},
   "source": [
    "## Load variant file "
   ]
  },
  {
   "cell_type": "code",
   "execution_count": 162,
   "metadata": {},
   "outputs": [],
   "source": [
    "# read in zarr files\n",
    "chrom = 7\n",
    "zarr_path = '/home/jribado/Dropbox (IDM)/Data, Dynamics, and Analytics Folder/Projects/malaria_pfcommunity/malaria_pf3k/pf3k_zarr/'\n",
    "zarr_file = zarr_path + 'SNP_INDEL_Pf3D7_' + \"{:02d}\".format(chrom) + '_v3.zarr'\n",
    "callset = zarr.open(zarr_file, mode='r')"
   ]
  },
  {
   "cell_type": "markdown",
   "metadata": {},
   "source": [
    "## Find index overlaps\n",
    "\n",
    "This looks for overlaps without considering quality filtering parameters. Quality metric are applied in the following section. "
   ]
  },
  {
   "cell_type": "code",
   "execution_count": 163,
   "metadata": {},
   "outputs": [
    {
     "name": "stdout",
     "output_type": "stream",
     "text": [
      "Possible variants on chromosome 7 : 300181\n"
     ]
    }
   ],
   "source": [
    "# get the chromosome and position for all possible variants\n",
    "zarr_chrom = [x.split(\"_\",2)[1] for x in callset['variants/CHROM'][:].tolist()]\n",
    "zarr_index = callset['variants/POS'][:].tolist()\n",
    "print(\"Possible variants on chromosome\", chrom, \":\", len(zarr_index))"
   ]
  },
  {
   "cell_type": "code",
   "execution_count": 267,
   "metadata": {},
   "outputs": [
    {
     "name": "stdout",
     "output_type": "stream",
     "text": [
      "Possible variants on chromosome 7 from user defined variant list : 8\n",
      "[277104, 490877, 545046, 657939, 671839, 683772, 792356, 1415182]\n"
     ]
    }
   ],
   "source": [
    "# subset the variants on the chromosome of interest\n",
    "daniels_chrom_sub = daniels_df.loc[daniels_df.chr == chrom]\n",
    "print(\"Possible variants on chromosome\", chrom, \"from user defined variant list :\", daniels_chrom_sub.shape[0])\n",
    "print(daniels_chrom_sub[\"position\"].tolist())"
   ]
  },
  {
   "cell_type": "code",
   "execution_count": 165,
   "metadata": {},
   "outputs": [
    {
     "name": "stdout",
     "output_type": "stream",
     "text": [
      "Number of overlapping variants from VCF and user defined variant list on chromosome 7 : 3\n",
      "Overlapping positions on chromsome 7 : [119800 168112 277966]\n"
     ]
    }
   ],
   "source": [
    "user_overlap = [i in daniels_chrom_sub[\"position\"].tolist() for i in zarr_index]\n",
    "print(\"Number of overlapping variants from VCF and user defined variant list on chromosome\", chrom, \":\", np.count_nonzero(user_overlap))\n",
    "print(\"Overlapping positions on chromsome\", chrom, \":\", np.where(user_overlap)[0])"
   ]
  },
  {
   "cell_type": "markdown",
   "metadata": {},
   "source": [
    "## Pull variant information\n",
    "\n",
    "Now that fun part, actually getting the relevant information! These two sections will highlight pulling genotypes or count information for different alleles. \n",
    "\n",
    "I recommend filtering the variants based on MalariaGen guidelines. The two variables that can be relaxed below ate the number of alternative alleles and the VSQLOD score. Currently it is set to only pull biallelic SNPs, but can be changed to pull muliallelic sites. The VSQLOD score is a ratio of SNP position testing Gaussian mixture models for the probability of true SNPs in a good and bad model. The higher the score, the more confident you can be in the call. Anything above 1 is considered technucally \"true\" if this needs to be relaxed to include more variants (Pfv6 uses a filter of 6). \n",
    "\n",
    "More info on VQSLOD scores: https://qcb.ucla.edu/wp-content/uploads/sites/14/2016/03/GATKwr12-6-Variant_filtering.pdf"
   ]
  },
  {
   "cell_type": "code",
   "execution_count": 145,
   "metadata": {},
   "outputs": [
    {
     "name": "stdout",
     "output_type": "stream",
     "text": [
      "Number of filtered genes: 46029\n"
     ]
    }
   ],
   "source": [
    "# get high quality snps for pfv6 to find overlaps\n",
    "quality_set = callset['variants/FILTER_PASS'][:]\n",
    "snp_set = callset['variants/is_snp'][:]\n",
    "vsqlod_set = callset['variants/VQSLOD'][:]  > 2\n",
    "biallelic_set = callset['variants/numalt'][:] == 1\n",
    "variant_hq = quality_set & snp_set & vsqlod_set & biallelic_set\n",
    "print(\"Number of filtered genes:\", np.count_nonzero(variant_hq))"
   ]
  },
  {
   "cell_type": "code",
   "execution_count": 146,
   "metadata": {},
   "outputs": [
    {
     "data": {
      "text/plain": [
       "1"
      ]
     },
     "execution_count": 146,
     "metadata": {},
     "output_type": "execute_result"
    }
   ],
   "source": [
    "variant_keep = quality_set & snp_set & vsqlod_set & biallelic_set & user_overlap \n",
    "np.count_nonzero(variant_keep)"
   ]
  },
  {
   "cell_type": "markdown",
   "metadata": {},
   "source": [
    "Only one of the variants meets the criteria with relaxed quality, so let's just proceed with the 3 original for demonstration sake. "
   ]
  },
  {
   "cell_type": "markdown",
   "metadata": {},
   "source": [
    "### Genotype matrix"
   ]
  },
  {
   "cell_type": "code",
   "execution_count": 45,
   "metadata": {},
   "outputs": [],
   "source": [
    "gt_zarr = callset['calldata/GT']\n",
    "gt_dask = allel.GenotypeDaskArray(gt_zarr)\n",
    "gt_daskSub = gt_dask.subset(user_overlap).compute()"
   ]
  },
  {
   "cell_type": "code",
   "execution_count": 46,
   "metadata": {},
   "outputs": [
    {
     "data": {
      "text/html": [
       "<div class=\"allel allel-DisplayAs2D\"><span>&lt;GenotypeArray shape=(3, 2640, 2) dtype=int8&gt;</span><table><thead><tr><th></th><th style=\"text-align: center\">0</th><th style=\"text-align: center\">1</th><th style=\"text-align: center\">2</th><th style=\"text-align: center\">3</th><th style=\"text-align: center\">4</th><th style=\"text-align: center\">...</th><th style=\"text-align: center\">2635</th><th style=\"text-align: center\">2636</th><th style=\"text-align: center\">2637</th><th style=\"text-align: center\">2638</th><th style=\"text-align: center\">2639</th></tr></thead><tbody><tr><th style=\"text-align: center; background-color: white; border-right: 1px solid black; \">0</th><td style=\"text-align: center\">2/2</td><td style=\"text-align: center\">0/0</td><td style=\"text-align: center\">0/0</td><td style=\"text-align: center\">0/0</td><td style=\"text-align: center\">./.</td><td style=\"text-align: center\">...</td><td style=\"text-align: center\">./.</td><td style=\"text-align: center\">0/0</td><td style=\"text-align: center\">./.</td><td style=\"text-align: center\">0/0</td><td style=\"text-align: center\">0/0</td></tr><tr><th style=\"text-align: center; background-color: white; border-right: 1px solid black; \">1</th><td style=\"text-align: center\">0/0</td><td style=\"text-align: center\">0/0</td><td style=\"text-align: center\">0/0</td><td style=\"text-align: center\">0/0</td><td style=\"text-align: center\">0/0</td><td style=\"text-align: center\">...</td><td style=\"text-align: center\">0/0</td><td style=\"text-align: center\">0/0</td><td style=\"text-align: center\">0/0</td><td style=\"text-align: center\">0/0</td><td style=\"text-align: center\">0/0</td></tr><tr><th style=\"text-align: center; background-color: white; border-right: 1px solid black; \">2</th><td style=\"text-align: center\">./.</td><td style=\"text-align: center\">./.</td><td style=\"text-align: center\">./.</td><td style=\"text-align: center\">0/0</td><td style=\"text-align: center\">0/0</td><td style=\"text-align: center\">...</td><td style=\"text-align: center\">./.</td><td style=\"text-align: center\">./.</td><td style=\"text-align: center\">./.</td><td style=\"text-align: center\">./.</td><td style=\"text-align: center\">./.</td></tr></tbody></table></div>"
      ],
      "text/plain": [
       "<GenotypeArray shape=(3, 2640, 2) dtype=int8>\n",
       "2/2 0/0 0/0 0/0 ./. ... ./. 0/0 ./. 0/0 0/0\n",
       "0/0 0/0 0/0 0/0 0/0 ... 0/0 0/0 0/0 0/0 0/0\n",
       "./. ./. ./. 0/0 0/0 ... ./. ./. ./. ./. ./."
      ]
     },
     "execution_count": 46,
     "metadata": {},
     "output_type": "execute_result"
    }
   ],
   "source": [
    "gt_daskSub"
   ]
  },
  {
   "cell_type": "markdown",
   "metadata": {},
   "source": [
    "This is not an elegant \"Pythonic way\" to pull genotypes, but it works. Would be thrilled to learn a better way to loop through 3D Numpy arrays to make this faster. "
   ]
  },
  {
   "cell_type": "code",
   "execution_count": 363,
   "metadata": {},
   "outputs": [],
   "source": [
    "def merge(list1, list2, j):\n",
    "    dic = {-1:\"X\", \n",
    "           0: np.array(callset['variants/REF'][:])[user_overlap][j], \n",
    "           1: np.array(callset['variants/ALT'][:])[user_overlap][j,0], \n",
    "           2: np.array(callset['variants/ALT'][:])[user_overlap][j,1],\n",
    "           3: np.array(callset['variants/ALT'][:])[user_overlap][j,2]}\n",
    "    merged_list = []\n",
    "    for i in range(0, len(list1)):\n",
    "        if list1[i] == list2[i]:\n",
    "            if list1[i] == 0:\n",
    "                merged_list.append(ref_allele)\n",
    "            if list1[i] == -1:\n",
    "                merged_list.append(\"X\")\n",
    "            else:\n",
    "                merged_list.append(list1[i])\n",
    "        else:\n",
    "            merged_list.append(\"N\") \n",
    "        \n",
    "    merged_replace=[dic.get(n, n) for n in merged_list]  \n",
    "    #merged_list = [list1[i] for i in range(0, len(list1)) if list1[i] == list2[i]] \n",
    "    return(merged_replace)"
   ]
  },
  {
   "cell_type": "code",
   "execution_count": 365,
   "metadata": {},
   "outputs": [
    {
     "name": "stdout",
     "output_type": "stream",
     "text": [
      "/samples 7G8 ERS740936 ERS740937 ERS740940 GB4 PA0007-C PA0008-C PA0011-C  \\\n",
      "545046               G         G         G   X        G        G        X   \n",
      "671839     G         G         G         G   G        G        G        G   \n",
      "1415182    X         X         X         G   G        G        G        G   \n",
      "\n",
      "/samples PA0012-C PA0015-C  ... SenT230.08 SenT231.08 SenT232.08 SenT233.08  \\\n",
      "545046          G        X  ...          X          G          X          X   \n",
      "671839          G        G  ...          G          G          G          G   \n",
      "1415182         X        X  ...          X          X          G          X   \n",
      "\n",
      "/samples SenT235.08 SenT236.08 SenV034.04 SenV035.04 SenV042.05 SenV092.05  \n",
      "545046            G          X          G          X          G          G  \n",
      "671839            G          G          G          G          G          G  \n",
      "1415182           G          X          X          X          X          X  \n",
      "\n",
      "[3 rows x 2640 columns]\n"
     ]
    }
   ],
   "source": [
    "data = []\n",
    "for j in range(0, len(gt_daskSub)):\n",
    "    data.append(merge(gt_daskSub[j,:,1], gt_daskSub[j,:,1], 1))\n",
    "df = pd.DataFrame(data,\n",
    "                 index=np.array(callset['variants/POS'][:])[user_overlap],\n",
    "                 columns=callset['samples'])\n",
    "print(df)"
   ]
  },
  {
   "cell_type": "markdown",
   "metadata": {},
   "source": [
    "### Counts matrix\n",
    "\n",
    "The counts matrix would give a good sense for the proportion of reads that align to each allele. This is great to consider if expanding any models to handle polyinfections at \"biallelic\" sites or multiallelic sites. Change the allele count array to pull the 1, 2, 3..,n allele in each sequence. "
   ]
  },
  {
   "cell_type": "code",
   "execution_count": 48,
   "metadata": {},
   "outputs": [],
   "source": [
    "# pull total number of high quality reads that align to each position per sample\n",
    "dp_zarr = callset['calldata/DP']\n",
    "dp_dask = allel.AlleleCountsDaskArray(dp_zarr)\n",
    "dp_variant_selection = dp_dask.compress(user_overlap, axis=0).compute()"
   ]
  },
  {
   "cell_type": "code",
   "execution_count": 49,
   "metadata": {},
   "outputs": [],
   "source": [
    "# get the number of reads that align to each of the alleles\n",
    "ad_zarr=callset['calldata/AD']\n",
    "ad_array=da.from_zarr(ad_zarr)\n",
    "ad_variant_selection=ad_array[user_overlap]"
   ]
  },
  {
   "cell_type": "code",
   "execution_count": 52,
   "metadata": {},
   "outputs": [],
   "source": [
    "# pull the first item in the allele count array to get the reference count\n",
    "ad_array_ref=ad_variant_selection[:,:,0]\n",
    "ad_array_ref=ad_array_ref.compute()"
   ]
  },
  {
   "cell_type": "code",
   "execution_count": 53,
   "metadata": {},
   "outputs": [
    {
     "data": {
      "text/plain": [
       "True"
      ]
     },
     "execution_count": 53,
     "metadata": {},
     "output_type": "execute_result"
    }
   ],
   "source": [
    "# check both data frames have the same dimension\n",
    "np.shape(ad_array_ref) == np.shape(dp_variant_selection)"
   ]
  },
  {
   "cell_type": "code",
   "execution_count": 55,
   "metadata": {},
   "outputs": [],
   "source": [
    "# ignore zero division for site where one population may have an allele but other samples may not have adequate coverage\n",
    "np.seterr(divide='ignore', invalid='ignore')\n",
    "ref_het_calc=ad_array_ref/dp_variant_selection"
   ]
  },
  {
   "cell_type": "code",
   "execution_count": 59,
   "metadata": {},
   "outputs": [],
   "source": [
    "# assign the row names that correspond to the chromosome and position\n",
    "pos_keep = np.where(user_overlap)[0]\n",
    "chrom = [\"chr\"+x.split(\"_\",2)[1] for x in callset['variants/CHROM'][:][pos_keep].tolist()]\n",
    "pos = callset['variants/POS'][:][pos_keep].tolist()\n",
    "pos_index = [x + \"_\" + str(y) for x, y in zip(chrom, pos)]\n",
    "\n",
    "het_df=pd.DataFrame(data=ref_het_calc,\n",
    "                     index=pos_index,\n",
    "                     columns=callset['samples'])\n",
    "het_df\n",
    "het_df.to_csv('~/Desktop/alleleCounts_test.csv', header=True, index=True, sep=\"\\t\")"
   ]
  },
  {
   "cell_type": "code",
   "execution_count": null,
   "metadata": {},
   "outputs": [],
   "source": []
  }
 ],
 "metadata": {
  "kernelspec": {
   "display_name": "Python 3",
   "language": "python",
   "name": "python3"
  },
  "language_info": {
   "codemirror_mode": {
    "name": "ipython",
    "version": 3
   },
   "file_extension": ".py",
   "mimetype": "text/x-python",
   "name": "python",
   "nbconvert_exporter": "python",
   "pygments_lexer": "ipython3",
   "version": "3.6.9"
  }
 },
 "nbformat": 4,
 "nbformat_minor": 2
}
