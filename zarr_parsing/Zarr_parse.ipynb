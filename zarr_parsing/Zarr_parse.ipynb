{
 "cells": [
  {
   "cell_type": "code",
   "execution_count": 10,
   "metadata": {},
   "outputs": [],
   "source": [
    "# load packages - have been installed in vcf virtual env\n",
    "import os, sys\n",
    "import zarr\n",
    "import numpy as np\n",
    "import pandas as pd\n",
    "import allel  \n",
    "import dask.array as da\n",
    "from itertools import compress\n",
    "import glob\n",
    "from collections import defaultdict"
   ]
  },
  {
   "cell_type": "code",
   "execution_count": 11,
   "metadata": {},
   "outputs": [],
   "source": [
    "def read_zarr(chrom, zarr_path):\n",
    "    zarr_file = zarr_path + 'SNP_INDEL_Pf3D7_' + chrom + '_v3.zarr'\n",
    "    print(zarr_file)\n",
    "    callset = zarr.open(zarr_file, mode='r')\n",
    "    return(callset)\n",
    "\n",
    "def gt_subset(callset, variant_bool, sample_bool):\n",
    "    gt_zarr = callset['calldata/GT']\n",
    "    gt_dask = allel.GenotypeDaskArray(gt_zarr)\n",
    "    gt_daskSub = gt_dask.subset(variant_bool, sample_bool).compute()\n",
    "    return(gt_daskSub)\n",
    "\n",
    "def overlap_avail(user_pos_list, callset):\n",
    "    zarr_index   = callset['variants/POS'][:].tolist()\n",
    "    user_overlap =  [i in user_pos_list for i in zarr_index]\n",
    "    return(user_overlap)\n",
    "    \n",
    "def overlap_filter(user_snps, filter_snps):\n",
    "    return(user_snps & filter_snps)\n",
    "\n",
    "def user_snps(user_df, chrom):\n",
    "    user_sub = user_df[user_df['chr'].str.contains(chrom)]\n",
    "    return(user_sub[\"position\"].tolist())\n",
    "    \n",
    "def variant_filter(callset, vsqlod_min, num_alt):\n",
    "    quality_set = callset['variants/FILTER_PASS'][:]\n",
    "    snp_set = callset['variants/is_snp'][:]\n",
    "    vsqlod_set = callset['variants/VQSLOD'][:]  > vsqlod_min\n",
    "    alt_set = callset['variants/numalt'][:] < num_alt + 1 \n",
    "    variant_hq = quality_set & snp_set & vsqlod_set & alt_set\n",
    "    return(variant_hq)\n",
    "\n",
    "\n",
    "def allele_freq(callset, variant_bool, sample_bool, num_alt, chrom):\n",
    "    gt_daskSub = gt_subset(callset, variant_bool, sample_bool)\n",
    "    # count number of alleles\n",
    "    ac = gt_daskSub.count_alleles(max_allele=num_alt)\n",
    "    sub_af = ac/ac.sum(axis=1, keepdims=True)\n",
    "    sub_df = pd.DataFrame(sub_af,\n",
    "                 index=[\"Pf3D7_\" + chrom + \"_v3:\" + str(x) for x in np.array(callset['variants/POS'][:])[variant_bool]],\n",
    "                 columns=[\"REF\"] + [\"ALT\" + str(x) for x in range(1, num_alt + 1)])\n",
    "    return(sub_df)\n",
    "\n",
    "def gt_merge(list1, list2, j, callset, variant_bool):\n",
    "    dic = {-1:\"X\", \n",
    "           0: np.array(callset['variants/REF'][:])[variant_bool][j], \n",
    "           1: np.array(callset['variants/ALT'][:])[variant_bool][j,0], \n",
    "           2: np.array(callset['variants/ALT'][:])[variant_bool][j,1],\n",
    "           3: np.array(callset['variants/ALT'][:])[variant_bool][j,2]}\n",
    "    merged_list = []\n",
    "    for i in range(0, len(list1)):\n",
    "        if list1[i] == list2[i]:\n",
    "            if list1[i] == -1:\n",
    "                merged_list.append(\"X\")\n",
    "            else:\n",
    "                merged_list.append(list1[i])\n",
    "        else:\n",
    "            merged_list.append(\"N\") \n",
    "    merged_replace=[dic.get(n, n) for n in merged_list]  \n",
    "    return(merged_replace)\n",
    "\n",
    "def match_genotype(callset, variant_bool, sample_bool, chrom ):\n",
    "    gt_daskSub = gt_subset(callset, variant_bool, sample_bool)\n",
    "    data =[]\n",
    "    for j in range(0, len(gt_daskSub)):\n",
    "        data.append(gt_merge(gt_daskSub[j,:,0], gt_daskSub[j,:,1], j, callset, variant_bool))\n",
    "    gt_df = pd.DataFrame(data,\n",
    "                 index=[\"Pf3D7_\" + chrom + \"_v3:\" + str(x) for x in np.array(callset['variants/POS'][:])[variant_bool]],\n",
    "                 columns=list(compress(np.array(callset['samples']).tolist(), sample_bool)))\n",
    "    return(gt_df)"
   ]
  },
  {
   "cell_type": "code",
   "execution_count": 12,
   "metadata": {},
   "outputs": [],
   "source": [
    "# import the SNPs of interest - i.e. 24 barcode positions\n",
    "project_dir = 'C:/Users/wwong/Dropbox (IDM)/parasite_genetics/genomics/senegal'\n",
    "user_snp_file = os.path.join(project_dir, \"2008Daniels_BarcodePositions_Updated.txt\")\n",
    "user_snp_df = pd.read_csv(user_snp_file, sep='\\t', header=0)\n",
    "user_snp_df\n",
    "\n",
    "#user_samples = 'C:/Users/wwong/Dropbox (IDM)/parasite_genetics/genomics/senegal/pf3k_bc_sampleOverlap.txt'\n",
    "#with open(user_samples) as f:\n",
    "#    sampleList = f.read().splitlines() \n",
    "#print(sampleList[1:5])\n",
    "#print(len(sampleList))\n",
    "\n",
    "sampleList = ['SenP005.02','SenP008.04','SenP011.02','SenP019.04','SenP027.02','SenP031.01','SenP051.02','SenP060.02','SenT001.08']\n",
    "\n"
   ]
  },
  {
   "cell_type": "code",
   "execution_count": 42,
   "metadata": {},
   "outputs": [
    {
     "name": "stdout",
     "output_type": "stream",
     "text": [
      "C:/Users/wwong/Dropbox (IDM)/parasite_genetics/genomics/pf3k_zarr/SNP_INDEL_Pf3D7_01_v3.zarr\n"
     ]
    }
   ],
   "source": [
    "project_dir = 'C:/Users/wwong/Dropbox (IDM)/parasite_genetics/genomics/senegal/'\n",
    "num_alt = 3\n",
    "genotypes, frequencies = [], []\n",
    "\n",
    "\n",
    "class Zarr_Parse():\n",
    "    def __init__(self, sample_list, position_df, chrom_list = [x for x in range(1,15)], zarr_directory = 'C:/Users/wwong/Dropbox (IDM)/parasite_genetics/genomics/pf3k_zarr/',):\n",
    "        self.zarr_directory = zarr_directory\n",
    "        self.zfile_chromosomes = [int(zfile.split('_')[-2]) for zfile in glob.glob(self.zarr_directory + '*.zarr')]\n",
    "        self.chromosomes = []\n",
    "        self.samples = sample_list\n",
    "        self.positions_df = position_df #dataframe, columns = ['chr', 'position']\n",
    "        #would prefer to convert this to a dictionary\n",
    "        self.callset = {}\n",
    "        self.variant_bools = {}\n",
    "        self.sample_bools = {}\n",
    "        self.freq = {}\n",
    "        self.genotypes = {}        \n",
    "        self.fields = defaultdict(dict)\n",
    "        \n",
    "        self.create_callset(chrom_list)\n",
    "        \n",
    "        \n",
    "    def create_callset(self, chrom_list):\n",
    "        for chromosome in chrom_list:\n",
    "            if int(chromosome) in self.zfile_chromosomes:\n",
    "                self.chromosomes.append(chromosome)\n",
    "                chrom = \"{:02d}\".format(chromosome)\n",
    "                callset = read_zarr(chrom, self.zarr_directory)\n",
    "                self.callset[chromosome]= callset\n",
    "                \n",
    "                user_chrom_snps = user_snps(self.positions_df, chrom)\n",
    "                variant_bool = overlap_filter(overlap_avail(user_chrom_snps, callset), \n",
    "                                          variant_filter(callset, 2, num_alt))\n",
    "                self.variant_bools[chromosome] = variant_bool\n",
    "                \n",
    "                callset_samples = np.asarray(self.callset[chromosome]['samples']) #callset_samples\n",
    "                sample_bool = np.array([i in self.samples for i in callset_samples]) \n",
    "                self.sample_bools[chromosome] = sample_bool\n",
    "                \n",
    "                self.freq[chromosome] = allele_freq(callset, variant_bool, sample_bool, 3, chrom)\n",
    "                self.genotypes[chromosome] = match_genotype(callset, variant_bool, sample_bool, chrom)\n",
    "                \n",
    "    def extract_fields(self, dir1, field):\n",
    "        #works only for GT, DP, and AD only!\n",
    "        entry = '{dir1}/{field}'.format(dir1=dir1, field = field)\n",
    "        for chromosome in self.chromosomes:\n",
    "            if field in ['GT']:\n",
    "                dask = allel.GenotypeDaskArray(self.callset[chromosome][entry])\n",
    "                self.fields[entry][chromosome] = dask.subset(self.variant_bools[chromosome], self.sample_bools[chromosome]).compute()\n",
    "            elif field in ['DP']: #check the differentiation between AlleleCountsDaskarray and GenotypeDaskArray\n",
    "                dask = allel.AlleleCountsDaskArray(self.callset[chromosome][entry])\n",
    "                variant_selection = dask.compress(self.variant_bools[chromosome], axis=0).compute()\n",
    "                sample_selection = variant_selection[:, self.sample_bools[chromosome]]\n",
    "                self.fields[entry][chromosome] = sample_selection\n",
    "            elif field in ['AD']: #?? not sure why some things are Genotype/Allelecounts/ or simply an array\n",
    "                zarr_array =self.callset[chromosome][entry]\n",
    "                darray =da.from_zarr(zarr_array)\n",
    "                variant_selection=darray[self.variant_bools[chromosome]]\n",
    "                sample_selection=variant_selection[:,self.sample_bools[chromosome],:]\n",
    "                self.fields[entry][chromosome] = sample_selection\n",
    "    \n",
    "    def calculate_readdepth_proportions(self):\n",
    "        self.allele_props = {}\n",
    "        self.extract_fields('calldata', 'DP')\n",
    "        self.extract_fields('calldata', 'AD')\n",
    "        for chromosome in self.chromosomes:\n",
    "            allele_depths = np.asarray(self.fields['calldata/AD'][chromosome])\n",
    "            allele_depths[allele_depths == -1] = 0 #missing call considered same as 0\n",
    "            expanded_dim_depths = np.expand_dims(self.fields['calldata/DP'][chromosome], axis = 2) #expand the last dimension to be shape (position,samples,1) and allow direct division\n",
    "            self.allele_props[chromosome] = allele_depths / expanded_dim_depths\n",
    "\n",
    "        \n",
    "    def make_variant_call(self):\n",
    "        def call(stack):\n",
    "            if stack[1] > 0.98:\n",
    "                return stack[0]\n",
    "            else:\n",
    "                return -1   \n",
    "        self.calculate_readdepth_proportions()\n",
    "        self.variant_calls = {}\n",
    "        for chromosome in self.chromosomes:\n",
    "            max_idxes = np.argmax(self.allele_props[chromosome], axis = 2)\n",
    "            max_values = np.max(self.allele_props[chromosome], axis = 2)\n",
    "            stacked_array = np.stack((max_idxes, max_values), axis = 2)\n",
    "            self.variant_calls[chromosome] = np.apply_along_axis(call, 2, stacked_array)\n",
    "        #check reference statusd\n",
    "        \n",
    "        \n",
    "Z = Zarr_Parse(sampleList, user_snp_df)\n",
    "Z.extract_fields('calldata', 'GT')\n",
    "Z.make_variant_call()"
   ]
  },
  {
   "cell_type": "code",
   "execution_count": 16,
   "metadata": {},
   "outputs": [
    {
     "data": {
      "text/plain": [
       "dict_keys(['zarr_directory', 'zfile_chromosomes', 'chromosomes', 'samples', 'positions_df', 'callset', 'variant_bools', 'sample_bools', 'freq', 'genotypes', 'fields', 'allele_props', 'variant_calls'])"
      ]
     },
     "execution_count": 16,
     "metadata": {},
     "output_type": "execute_result"
    }
   ],
   "source": [
    "Z.__dict__.keys()"
   ]
  },
  {
   "cell_type": "code",
   "execution_count": 19,
   "metadata": {},
   "outputs": [
    {
     "data": {
      "text/html": [
       "<link rel=\"stylesheet\" href=\"//cdnjs.cloudflare.com/ajax/libs/jstree/3.3.3/themes/default/style.min.css\"/><div id=\"2a18a325-00de-4f08-a86d-c553bddb949d\" class=\"zarr-tree\"><ul><li data-jstree='{\"type\": \"Group\"}' class='jstree-open'><span>/</span><ul><li data-jstree='{\"type\": \"Group\"}' class=''><span>calldata</span><ul><li data-jstree='{\"type\": \"Array\"}' class=''><span>AD (159946, 2640, 4) int16</span></li><li data-jstree='{\"type\": \"Array\"}' class=''><span>DP (159946, 2640) int16</span></li><li data-jstree='{\"type\": \"Array\"}' class=''><span>GQ (159946, 2640) int8</span></li><li data-jstree='{\"type\": \"Array\"}' class=''><span>GT (159946, 2640, 2) int8</span></li><li data-jstree='{\"type\": \"Array\"}' class=''><span>MIN_DP (159946, 2640) int32</span></li><li data-jstree='{\"type\": \"Array\"}' class=''><span>PGT (159946, 2640) object</span></li><li data-jstree='{\"type\": \"Array\"}' class=''><span>PID (159946, 2640) object</span></li><li data-jstree='{\"type\": \"Array\"}' class=''><span>PL (159946, 2640, 3) int32</span></li><li data-jstree='{\"type\": \"Array\"}' class=''><span>RGQ (159946, 2640) int32</span></li><li data-jstree='{\"type\": \"Array\"}' class=''><span>SB (159946, 2640, 4) int32</span></li></ul></li><li data-jstree='{\"type\": \"Array\"}' class=''><span>samples (2640,) object</span></li><li data-jstree='{\"type\": \"Group\"}' class=''><span>variants</span><ul><li data-jstree='{\"type\": \"Array\"}' class=''><span>AC (159946, 3) int32</span></li><li data-jstree='{\"type\": \"Array\"}' class=''><span>AF (159946, 3) float32</span></li><li data-jstree='{\"type\": \"Array\"}' class=''><span>ALT (159946, 3) object</span></li><li data-jstree='{\"type\": \"Array\"}' class=''><span>AN (159946,) int32</span></li><li data-jstree='{\"type\": \"Array\"}' class=''><span>BaseQRankSum (159946,) float32</span></li><li data-jstree='{\"type\": \"Array\"}' class=''><span>CHROM (159946,) object</span></li><li data-jstree='{\"type\": \"Array\"}' class=''><span>ClippingRankSum (159946,) float32</span></li><li data-jstree='{\"type\": \"Array\"}' class=''><span>DP (159946,) int32</span></li><li data-jstree='{\"type\": \"Array\"}' class=''><span>DS (159946,) bool</span></li><li data-jstree='{\"type\": \"Array\"}' class=''><span>END (159946,) int32</span></li><li data-jstree='{\"type\": \"Array\"}' class=''><span>FILTER_Centromere (159946,) bool</span></li><li data-jstree='{\"type\": \"Array\"}' class=''><span>FILTER_InternalHypervariable (159946,) bool</span></li><li data-jstree='{\"type\": \"Array\"}' class=''><span>FILTER_LowQual (159946,) bool</span></li><li data-jstree='{\"type\": \"Array\"}' class=''><span>FILTER_Low_VQSLOD (159946,) bool</span></li><li data-jstree='{\"type\": \"Array\"}' class=''><span>FILTER_PASS (159946,) bool</span></li><li data-jstree='{\"type\": \"Array\"}' class=''><span>FILTER_SubtelomericHypervariable (159946,) bool</span></li><li data-jstree='{\"type\": \"Array\"}' class=''><span>FILTER_SubtelomericRepeat (159946,) bool</span></li><li data-jstree='{\"type\": \"Array\"}' class=''><span>FILTER_VQSRTrancheINDEL99.00to99.90 (159946,) bool</span></li><li data-jstree='{\"type\": \"Array\"}' class=''><span>FILTER_VQSRTrancheINDEL99.90to100.00 (159946,) bool</span></li><li data-jstree='{\"type\": \"Array\"}' class=''><span>FILTER_VQSRTrancheINDEL99.90to100.00+ (159946,) bool</span></li><li data-jstree='{\"type\": \"Array\"}' class=''><span>FILTER_VQSRTrancheSNP99.90to100.00 (159946,) bool</span></li><li data-jstree='{\"type\": \"Array\"}' class=''><span>FILTER_VQSRTrancheSNP99.90to100.00+ (159946,) bool</span></li><li data-jstree='{\"type\": \"Array\"}' class=''><span>FS (159946,) float32</span></li><li data-jstree='{\"type\": \"Array\"}' class=''><span>GC (159946,) float32</span></li><li data-jstree='{\"type\": \"Array\"}' class=''><span>HaplotypeScore (159946,) float32</span></li><li data-jstree='{\"type\": \"Array\"}' class=''><span>ID (159946,) object</span></li><li data-jstree='{\"type\": \"Array\"}' class=''><span>InbreedingCoeff (159946,) float32</span></li><li data-jstree='{\"type\": \"Array\"}' class=''><span>MLEAC (159946, 3) int32</span></li><li data-jstree='{\"type\": \"Array\"}' class=''><span>MLEAF (159946, 3) float32</span></li><li data-jstree='{\"type\": \"Array\"}' class=''><span>MQ (159946,) float32</span></li><li data-jstree='{\"type\": \"Array\"}' class=''><span>MQRankSum (159946,) float32</span></li><li data-jstree='{\"type\": \"Array\"}' class=''><span>NEGATIVE_TRAIN_SITE (159946,) bool</span></li><li data-jstree='{\"type\": \"Array\"}' class=''><span>POS (159946,) int32</span></li><li data-jstree='{\"type\": \"Array\"}' class=''><span>POSITIVE_TRAIN_SITE (159946,) bool</span></li><li data-jstree='{\"type\": \"Array\"}' class=''><span>QD (159946,) float32</span></li><li data-jstree='{\"type\": \"Array\"}' class=''><span>QUAL (159946,) float32</span></li><li data-jstree='{\"type\": \"Array\"}' class=''><span>REF (159946,) object</span></li><li data-jstree='{\"type\": \"Array\"}' class=''><span>RPA (159946,) int32</span></li><li data-jstree='{\"type\": \"Array\"}' class=''><span>RU (159946,) object</span></li><li data-jstree='{\"type\": \"Array\"}' class=''><span>ReadPosRankSum (159946,) float32</span></li><li data-jstree='{\"type\": \"Array\"}' class=''><span>RegionType (159946,) object</span></li><li data-jstree='{\"type\": \"Array\"}' class=''><span>SNPEFF_AMINO_ACID_CHANGE (159946,) object</span></li><li data-jstree='{\"type\": \"Array\"}' class=''><span>SNPEFF_CODON_CHANGE (159946,) object</span></li><li data-jstree='{\"type\": \"Array\"}' class=''><span>SNPEFF_EFFECT (159946,) object</span></li><li data-jstree='{\"type\": \"Array\"}' class=''><span>SNPEFF_EXON_ID (159946,) object</span></li><li data-jstree='{\"type\": \"Array\"}' class=''><span>SNPEFF_FUNCTIONAL_CLASS (159946,) object</span></li><li data-jstree='{\"type\": \"Array\"}' class=''><span>SNPEFF_GENE_BIOTYPE (159946,) object</span></li><li data-jstree='{\"type\": \"Array\"}' class=''><span>SNPEFF_GENE_NAME (159946,) object</span></li><li data-jstree='{\"type\": \"Array\"}' class=''><span>SNPEFF_IMPACT (159946,) object</span></li><li data-jstree='{\"type\": \"Array\"}' class=''><span>SNPEFF_TRANSCRIPT_ID (159946,) object</span></li><li data-jstree='{\"type\": \"Array\"}' class=''><span>SOR (159946,) float32</span></li><li data-jstree='{\"type\": \"Array\"}' class=''><span>STR (159946,) bool</span></li><li data-jstree='{\"type\": \"Array\"}' class=''><span>VQSLOD (159946,) float32</span></li><li data-jstree='{\"type\": \"Array\"}' class=''><span>VariantType (159946,) object</span></li><li data-jstree='{\"type\": \"Array\"}' class=''><span>altlen (159946, 3) int32</span></li><li data-jstree='{\"type\": \"Array\"}' class=''><span>culprit (159946,) object</span></li><li data-jstree='{\"type\": \"Array\"}' class=''><span>is_snp (159946,) bool</span></li><li data-jstree='{\"type\": \"Array\"}' class=''><span>numalt (159946,) int32</span></li><li data-jstree='{\"type\": \"Array\"}' class=''><span>set (159946,) object</span></li></ul></li></ul></li></ul></div>\n",
       "<script>\n",
       "    if (!require.defined('jquery')) {\n",
       "        require.config({\n",
       "            paths: {\n",
       "                jquery: '//cdnjs.cloudflare.com/ajax/libs/jquery/1.12.1/jquery.min'\n",
       "            },\n",
       "        });\n",
       "    }\n",
       "    if (!require.defined('jstree')) {\n",
       "        require.config({\n",
       "            paths: {\n",
       "                jstree: '//cdnjs.cloudflare.com/ajax/libs/jstree/3.3.3/jstree.min'\n",
       "            },\n",
       "        });\n",
       "    }\n",
       "    require(['jstree'], function() {\n",
       "        $('#2a18a325-00de-4f08-a86d-c553bddb949d').jstree({\n",
       "            types: {\n",
       "                Group: {\n",
       "                    icon: \"fa fa-folder\"\n",
       "                },\n",
       "                Array: {\n",
       "                    icon: \"fa fa-table\"\n",
       "                }\n",
       "            },\n",
       "            plugins: [\"types\"]\n",
       "        });\n",
       "    });\n",
       "</script>\n"
      ],
      "text/plain": [
       "/\n",
       " ├── calldata\n",
       " │   ├── AD (159946, 2640, 4) int16\n",
       " │   ├── DP (159946, 2640) int16\n",
       " │   ├── GQ (159946, 2640) int8\n",
       " │   ├── GT (159946, 2640, 2) int8\n",
       " │   ├── MIN_DP (159946, 2640) int32\n",
       " │   ├── PGT (159946, 2640) object\n",
       " │   ├── PID (159946, 2640) object\n",
       " │   ├── PL (159946, 2640, 3) int32\n",
       " │   ├── RGQ (159946, 2640) int32\n",
       " │   └── SB (159946, 2640, 4) int32\n",
       " ├── samples (2640,) object\n",
       " └── variants\n",
       "     ├── AC (159946, 3) int32\n",
       "     ├── AF (159946, 3) float32\n",
       "     ├── ALT (159946, 3) object\n",
       "     ├── AN (159946,) int32\n",
       "     ├── BaseQRankSum (159946,) float32\n",
       "     ├── CHROM (159946,) object\n",
       "     ├── ClippingRankSum (159946,) float32\n",
       "     ├── DP (159946,) int32\n",
       "     ├── DS (159946,) bool\n",
       "     ├── END (159946,) int32\n",
       "     ├── FILTER_Centromere (159946,) bool\n",
       "     ├── FILTER_InternalHypervariable (159946,) bool\n",
       "     ├── FILTER_LowQual (159946,) bool\n",
       "     ├── FILTER_Low_VQSLOD (159946,) bool\n",
       "     ├── FILTER_PASS (159946,) bool\n",
       "     ├── FILTER_SubtelomericHypervariable (159946,) bool\n",
       "     ├── FILTER_SubtelomericRepeat (159946,) bool\n",
       "     ├── FILTER_VQSRTrancheINDEL99.00to99.90 (159946,) bool\n",
       "     ├── FILTER_VQSRTrancheINDEL99.90to100.00 (159946,) bool\n",
       "     ├── FILTER_VQSRTrancheINDEL99.90to100.00+ (159946,) bool\n",
       "     ├── FILTER_VQSRTrancheSNP99.90to100.00 (159946,) bool\n",
       "     ├── FILTER_VQSRTrancheSNP99.90to100.00+ (159946,) bool\n",
       "     ├── FS (159946,) float32\n",
       "     ├── GC (159946,) float32\n",
       "     ├── HaplotypeScore (159946,) float32\n",
       "     ├── ID (159946,) object\n",
       "     ├── InbreedingCoeff (159946,) float32\n",
       "     ├── MLEAC (159946, 3) int32\n",
       "     ├── MLEAF (159946, 3) float32\n",
       "     ├── MQ (159946,) float32\n",
       "     ├── MQRankSum (159946,) float32\n",
       "     ├── NEGATIVE_TRAIN_SITE (159946,) bool\n",
       "     ├── POS (159946,) int32\n",
       "     ├── POSITIVE_TRAIN_SITE (159946,) bool\n",
       "     ├── QD (159946,) float32\n",
       "     ├── QUAL (159946,) float32\n",
       "     ├── REF (159946,) object\n",
       "     ├── RPA (159946,) int32\n",
       "     ├── RU (159946,) object\n",
       "     ├── ReadPosRankSum (159946,) float32\n",
       "     ├── RegionType (159946,) object\n",
       "     ├── SNPEFF_AMINO_ACID_CHANGE (159946,) object\n",
       "     ├── SNPEFF_CODON_CHANGE (159946,) object\n",
       "     ├── SNPEFF_EFFECT (159946,) object\n",
       "     ├── SNPEFF_EXON_ID (159946,) object\n",
       "     ├── SNPEFF_FUNCTIONAL_CLASS (159946,) object\n",
       "     ├── SNPEFF_GENE_BIOTYPE (159946,) object\n",
       "     ├── SNPEFF_GENE_NAME (159946,) object\n",
       "     ├── SNPEFF_IMPACT (159946,) object\n",
       "     ├── SNPEFF_TRANSCRIPT_ID (159946,) object\n",
       "     ├── SOR (159946,) float32\n",
       "     ├── STR (159946,) bool\n",
       "     ├── VQSLOD (159946,) float32\n",
       "     ├── VariantType (159946,) object\n",
       "     ├── altlen (159946, 3) int32\n",
       "     ├── culprit (159946,) object\n",
       "     ├── is_snp (159946,) bool\n",
       "     ├── numalt (159946,) int32\n",
       "     └── set (159946,) object"
      ]
     },
     "execution_count": 19,
     "metadata": {},
     "output_type": "execute_result"
    }
   ],
   "source": [
    "Z.callset[1].tree()"
   ]
  },
  {
   "cell_type": "code",
   "execution_count": 21,
   "metadata": {},
   "outputs": [
    {
     "data": {
      "text/plain": [
       "{1: array([False, False, False, ..., False, False, False])}"
      ]
     },
     "execution_count": 21,
     "metadata": {},
     "output_type": "execute_result"
    }
   ],
   "source": [
    "Z.variant_bools"
   ]
  },
  {
   "cell_type": "code",
   "execution_count": 23,
   "metadata": {},
   "outputs": [
    {
     "data": {
      "text/plain": [
       "dict_keys(['calldata/GT', 'calldata/DP', 'calldata/AD'])"
      ]
     },
     "execution_count": 23,
     "metadata": {},
     "output_type": "execute_result"
    }
   ],
   "source": [
    "Z.fields.keys()"
   ]
  },
  {
   "cell_type": "code",
   "execution_count": 25,
   "metadata": {},
   "outputs": [
    {
     "data": {
      "text/html": [
       "<div class=\"allel allel-DisplayAs2D\"><span>&lt;GenotypeArray shape=(2, 9, 2) dtype=int8&gt;</span><table><thead><tr><th></th><th style=\"text-align: center\">0</th><th style=\"text-align: center\">1</th><th style=\"text-align: center\">2</th><th style=\"text-align: center\">3</th><th style=\"text-align: center\">4</th><th style=\"text-align: center\">5</th><th style=\"text-align: center\">6</th><th style=\"text-align: center\">7</th><th style=\"text-align: center\">8</th></tr></thead><tbody><tr><th style=\"text-align: center; background-color: white; border-right: 1px solid black; \">0</th><td style=\"text-align: center\">0/0</td><td style=\"text-align: center\">1/1</td><td style=\"text-align: center\">1/1</td><td style=\"text-align: center\">0/0</td><td style=\"text-align: center\">0/0</td><td style=\"text-align: center\">1/1</td><td style=\"text-align: center\">0/0</td><td style=\"text-align: center\">1/1</td><td style=\"text-align: center\">1/1</td></tr><tr><th style=\"text-align: center; background-color: white; border-right: 1px solid black; \">1</th><td style=\"text-align: center\">1/1</td><td style=\"text-align: center\">1/1</td><td style=\"text-align: center\">1/1</td><td style=\"text-align: center\">1/1</td><td style=\"text-align: center\">1/1</td><td style=\"text-align: center\">1/1</td><td style=\"text-align: center\">1/1</td><td style=\"text-align: center\">1/1</td><td style=\"text-align: center\">1/1</td></tr></tbody></table></div>"
      ],
      "text/plain": [
       "<GenotypeArray shape=(2, 9, 2) dtype=int8>\n",
       "0/0 1/1 1/1 0/0 0/0 1/1 0/0 1/1 1/1\n",
       "1/1 1/1 1/1 1/1 1/1 1/1 1/1 1/1 1/1"
      ]
     },
     "execution_count": 25,
     "metadata": {},
     "output_type": "execute_result"
    }
   ],
   "source": [
    "Z.fields['calldata/GT'][1]"
   ]
  },
  {
   "cell_type": "code",
   "execution_count": 26,
   "metadata": {},
   "outputs": [
    {
     "data": {
      "text/plain": [
       "array([[ 38,  89,  23,  58,  47,  47,  44,  40, 135],\n",
       "       [ 73,  96,  66,  78, 146,  67, 154,  67, 121]], dtype=int16)"
      ]
     },
     "execution_count": 26,
     "metadata": {},
     "output_type": "execute_result"
    }
   ],
   "source": [
    "Z.fields['calldata/DP'][1]"
   ]
  },
  {
   "cell_type": "code",
   "execution_count": 28,
   "metadata": {},
   "outputs": [
    {
     "data": {
      "text/plain": [
       "array([[[ 38,   0,  -1,  -1],\n",
       "        [  2,  87,  -1,  -1],\n",
       "        [  0,  23,  -1,  -1],\n",
       "        [ 58,   0,  -1,  -1],\n",
       "        [ 47,   0,  -1,  -1],\n",
       "        [  0,  47,  -1,  -1],\n",
       "        [ 44,   0,  -1,  -1],\n",
       "        [  0,  40,  -1,  -1],\n",
       "        [  0, 135,  -1,  -1]],\n",
       "\n",
       "       [[  0,  73,  -1,  -1],\n",
       "        [  2,  94,  -1,  -1],\n",
       "        [  0,  66,  -1,  -1],\n",
       "        [  1,  77,  -1,  -1],\n",
       "        [  0, 146,  -1,  -1],\n",
       "        [  0,  67,  -1,  -1],\n",
       "        [  0, 154,  -1,  -1],\n",
       "        [  0,  67,  -1,  -1],\n",
       "        [  0, 121,  -1,  -1]]], dtype=int16)"
      ]
     },
     "execution_count": 28,
     "metadata": {},
     "output_type": "execute_result"
    }
   ],
   "source": [
    "np.asarray(Z.fields['calldata/AD'][1])"
   ]
  },
  {
   "cell_type": "code",
   "execution_count": 30,
   "metadata": {},
   "outputs": [
    {
     "data": {
      "text/plain": [
       "array([[[ 38],\n",
       "        [ 89],\n",
       "        [ 23],\n",
       "        [ 58],\n",
       "        [ 47],\n",
       "        [ 47],\n",
       "        [ 44],\n",
       "        [ 40],\n",
       "        [135]],\n",
       "\n",
       "       [[ 73],\n",
       "        [ 96],\n",
       "        [ 66],\n",
       "        [ 78],\n",
       "        [146],\n",
       "        [ 67],\n",
       "        [154],\n",
       "        [ 67],\n",
       "        [121]]], dtype=int16)"
      ]
     },
     "execution_count": 30,
     "metadata": {},
     "output_type": "execute_result"
    }
   ],
   "source": [
    "np.expand_dims(Z.fields['calldata/DP'][1], axis=2)"
   ]
  },
  {
   "cell_type": "code",
   "execution_count": 32,
   "metadata": {},
   "outputs": [
    {
     "data": {
      "text/plain": [
       "array([[[ 1.        ,  0.        , -0.02631579, -0.02631579],\n",
       "        [ 0.02247191,  0.97752809, -0.01123596, -0.01123596],\n",
       "        [ 0.        ,  1.        , -0.04347826, -0.04347826],\n",
       "        [ 1.        ,  0.        , -0.01724138, -0.01724138],\n",
       "        [ 1.        ,  0.        , -0.0212766 , -0.0212766 ],\n",
       "        [ 0.        ,  1.        , -0.0212766 , -0.0212766 ],\n",
       "        [ 1.        ,  0.        , -0.02272727, -0.02272727],\n",
       "        [ 0.        ,  1.        , -0.025     , -0.025     ],\n",
       "        [ 0.        ,  1.        , -0.00740741, -0.00740741]],\n",
       "\n",
       "       [[ 0.        ,  1.        , -0.01369863, -0.01369863],\n",
       "        [ 0.02083333,  0.97916667, -0.01041667, -0.01041667],\n",
       "        [ 0.        ,  1.        , -0.01515152, -0.01515152],\n",
       "        [ 0.01282051,  0.98717949, -0.01282051, -0.01282051],\n",
       "        [ 0.        ,  1.        , -0.00684932, -0.00684932],\n",
       "        [ 0.        ,  1.        , -0.01492537, -0.01492537],\n",
       "        [ 0.        ,  1.        , -0.00649351, -0.00649351],\n",
       "        [ 0.        ,  1.        , -0.01492537, -0.01492537],\n",
       "        [ 0.        ,  1.        , -0.00826446, -0.00826446]]])"
      ]
     },
     "execution_count": 32,
     "metadata": {},
     "output_type": "execute_result"
    }
   ],
   "source": [
    "np.asarray(Z.fields['calldata/AD'][1]) / np.expand_dims(Z.fields['calldata/DP'][1], axis=2)"
   ]
  },
  {
   "cell_type": "code",
   "execution_count": 34,
   "metadata": {},
   "outputs": [
    {
     "data": {
      "text/plain": [
       "{1: array([[[1.        , 0.        , 0.        , 0.        ],\n",
       "         [0.02247191, 0.97752809, 0.        , 0.        ],\n",
       "         [0.        , 1.        , 0.        , 0.        ],\n",
       "         [1.        , 0.        , 0.        , 0.        ],\n",
       "         [1.        , 0.        , 0.        , 0.        ],\n",
       "         [0.        , 1.        , 0.        , 0.        ],\n",
       "         [1.        , 0.        , 0.        , 0.        ],\n",
       "         [0.        , 1.        , 0.        , 0.        ],\n",
       "         [0.        , 1.        , 0.        , 0.        ]],\n",
       " \n",
       "        [[0.        , 1.        , 0.        , 0.        ],\n",
       "         [0.02083333, 0.97916667, 0.        , 0.        ],\n",
       "         [0.        , 1.        , 0.        , 0.        ],\n",
       "         [0.01282051, 0.98717949, 0.        , 0.        ],\n",
       "         [0.        , 1.        , 0.        , 0.        ],\n",
       "         [0.        , 1.        , 0.        , 0.        ],\n",
       "         [0.        , 1.        , 0.        , 0.        ],\n",
       "         [0.        , 1.        , 0.        , 0.        ],\n",
       "         [0.        , 1.        , 0.        , 0.        ]]])}"
      ]
     },
     "execution_count": 34,
     "metadata": {},
     "output_type": "execute_result"
    }
   ],
   "source": [
    "Z.allele_props"
   ]
  },
  {
   "cell_type": "code",
   "execution_count": 35,
   "metadata": {},
   "outputs": [
    {
     "name": "stdout",
     "output_type": "stream",
     "text": [
      "[[0 1 1 0 0 1 0 1 1]\n",
      " [1 1 1 1 1 1 1 1 1]]\n"
     ]
    }
   ],
   "source": [
    "max_idxes = np.argmax(Z.allele_props[1], axis = 2)\n",
    "print(max_idxes)"
   ]
  },
  {
   "cell_type": "code",
   "execution_count": 36,
   "metadata": {},
   "outputs": [
    {
     "name": "stdout",
     "output_type": "stream",
     "text": [
      "[[1.         0.97752809 1.         1.         1.         1.\n",
      "  1.         1.         1.        ]\n",
      " [1.         0.97916667 1.         0.98717949 1.         1.\n",
      "  1.         1.         1.        ]]\n"
     ]
    }
   ],
   "source": [
    "max_values = np.max(Z.allele_props[1], axis = 2)\n",
    "print(max_values)"
   ]
  },
  {
   "cell_type": "code",
   "execution_count": 37,
   "metadata": {},
   "outputs": [],
   "source": [
    "stacked_array = np.stack((max_idxes, max_values), axis = 2)"
   ]
  },
  {
   "cell_type": "code",
   "execution_count": 38,
   "metadata": {},
   "outputs": [
    {
     "data": {
      "text/plain": [
       "array([[[0.        , 1.        ],\n",
       "        [1.        , 0.97752809],\n",
       "        [1.        , 1.        ],\n",
       "        [0.        , 1.        ],\n",
       "        [0.        , 1.        ],\n",
       "        [1.        , 1.        ],\n",
       "        [0.        , 1.        ],\n",
       "        [1.        , 1.        ],\n",
       "        [1.        , 1.        ]],\n",
       "\n",
       "       [[1.        , 1.        ],\n",
       "        [1.        , 0.97916667],\n",
       "        [1.        , 1.        ],\n",
       "        [1.        , 0.98717949],\n",
       "        [1.        , 1.        ],\n",
       "        [1.        , 1.        ],\n",
       "        [1.        , 1.        ],\n",
       "        [1.        , 1.        ],\n",
       "        [1.        , 1.        ]]])"
      ]
     },
     "execution_count": 38,
     "metadata": {},
     "output_type": "execute_result"
    }
   ],
   "source": [
    "stacked_array"
   ]
  },
  {
   "cell_type": "code",
   "execution_count": 49,
   "metadata": {},
   "outputs": [
    {
     "data": {
      "text/html": [
       "<div>\n",
       "<style scoped>\n",
       "    .dataframe tbody tr th:only-of-type {\n",
       "        vertical-align: middle;\n",
       "    }\n",
       "\n",
       "    .dataframe tbody tr th {\n",
       "        vertical-align: top;\n",
       "    }\n",
       "\n",
       "    .dataframe thead th {\n",
       "        text-align: right;\n",
       "    }\n",
       "</style>\n",
       "<table border=\"1\" class=\"dataframe\">\n",
       "  <thead>\n",
       "    <tr style=\"text-align: right;\">\n",
       "      <th></th>\n",
       "      <th>SenP005.02</th>\n",
       "      <th>SenP008.04</th>\n",
       "      <th>SenP011.02</th>\n",
       "      <th>SenP019.04</th>\n",
       "      <th>SenP027.02</th>\n",
       "      <th>SenP031.01</th>\n",
       "      <th>SenP051.02</th>\n",
       "      <th>SenP060.02</th>\n",
       "      <th>SenT001.08</th>\n",
       "    </tr>\n",
       "  </thead>\n",
       "  <tbody>\n",
       "    <tr>\n",
       "      <th>0</th>\n",
       "      <td>0.0</td>\n",
       "      <td>-1.0</td>\n",
       "      <td>1.0</td>\n",
       "      <td>0.0</td>\n",
       "      <td>0.0</td>\n",
       "      <td>1.0</td>\n",
       "      <td>0.0</td>\n",
       "      <td>1.0</td>\n",
       "      <td>1.0</td>\n",
       "    </tr>\n",
       "    <tr>\n",
       "      <th>1</th>\n",
       "      <td>1.0</td>\n",
       "      <td>-1.0</td>\n",
       "      <td>1.0</td>\n",
       "      <td>1.0</td>\n",
       "      <td>1.0</td>\n",
       "      <td>1.0</td>\n",
       "      <td>1.0</td>\n",
       "      <td>1.0</td>\n",
       "      <td>1.0</td>\n",
       "    </tr>\n",
       "  </tbody>\n",
       "</table>\n",
       "</div>"
      ],
      "text/plain": [
       "   SenP005.02  SenP008.04  SenP011.02  SenP019.04  SenP027.02  SenP031.01  \\\n",
       "0         0.0        -1.0         1.0         0.0         0.0         1.0   \n",
       "1         1.0        -1.0         1.0         1.0         1.0         1.0   \n",
       "\n",
       "   SenP051.02  SenP060.02  SenT001.08  \n",
       "0         0.0         1.0         1.0  \n",
       "1         1.0         1.0         1.0  "
      ]
     },
     "execution_count": 49,
     "metadata": {},
     "output_type": "execute_result"
    }
   ],
   "source": [
    "pd.DataFrame(Z.variant_calls[1], columns = Z.samples)"
   ]
  },
  {
   "cell_type": "code",
   "execution_count": 53,
   "metadata": {},
   "outputs": [
    {
     "name": "stdout",
     "output_type": "stream",
     "text": [
      "Pf3D7_01_v3 130339\n",
      "Pf3D7_01_v3 537322\n",
      "Pf3D7_02_v3 842805\n",
      "Pf3D7_04_v3 276127\n",
      "Pf3D7_05_v3 931606\n",
      "Pf3D7_06_v3 145475\n",
      "Pf3D7_06_v3 937752\n",
      "Pf3D7_07_v3 221722\n",
      "Pf3D7_07_v3 435497\n",
      "Pf3D7_07_v3 489666\n",
      "Pf3D7_07_v3 602559\n",
      "Pf3D7_07_v3 616459\n",
      "Pf3D7_07_v3 628392\n",
      "Pf3D7_07_v3 736978\n",
      "Pf3D7_07_v3 1359804\n",
      "Pf3D7_08_v3 612596\n",
      "Pf3D7_09_v3 634019\n",
      "Pf3D7_10_v3 82375\n",
      "Pf3D7_10_v3 1402510\n",
      "Pf3D7_11_v3 119497\n",
      "Pf3D7_11_v3 408600\n",
      "Pf3D7_13_v3 158412\n",
      "Pf3D7_13_v3 1429067\n",
      "Pf3D7_14_v3 755731\n"
     ]
    }
   ],
   "source": [
    "for chr, position in zip(Z.positions_df['chr'], Z.positions_df['position']):\n",
    "    print(chr, position)"
   ]
  },
  {
   "cell_type": "code",
   "execution_count": null,
   "metadata": {},
   "outputs": [],
   "source": []
  }
 ],
 "metadata": {
  "kernelspec": {
   "display_name": "Python 3",
   "language": "python",
   "name": "python3"
  },
  "language_info": {
   "codemirror_mode": {
    "name": "ipython",
    "version": 3
   },
   "file_extension": ".py",
   "mimetype": "text/x-python",
   "name": "python",
   "nbconvert_exporter": "python",
   "pygments_lexer": "ipython3",
   "version": "3.7.6"
  }
 },
 "nbformat": 4,
 "nbformat_minor": 2
}
