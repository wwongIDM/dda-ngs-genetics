{
 "cells": [
  {
   "cell_type": "markdown",
   "metadata": {},
   "source": [
    "# Creating genotype matrices of historic surveillance SNPs"
   ]
  },
  {
   "cell_type": "markdown",
   "metadata": {},
   "source": [
    "## Goal\n",
    "\n",
    "Create matrices of the 24 SNP barcode from Daniels et al. 2008 and the 96 SNP barcode for Lo et al. 2018. These updates matrices can be used in transmission models."
   ]
  },
  {
   "cell_type": "code",
   "execution_count": 1,
   "metadata": {},
   "outputs": [],
   "source": [
    "# load packages - have been installed in vcf virtual env\n",
    "import os, sys\n",
    "import zarr\n",
    "import numpy as np\n",
    "import pandas as pd\n",
    "import allel  \n",
    "import dask.array as da"
   ]
  },
  {
   "cell_type": "markdown",
   "metadata": {},
   "source": [
    "## Load literature position files\n",
    "\n",
    "These files were generated from tables in the papers since accompaying files with the chromosome and position were not available. Additional file 4 from Daniels 2018 was manually copied. Table 1 from Lo 2018 was downloaded as .jpg, converted to PDF to Excel. Resulting table was manually checked and corrected for chromosome and position errors that occured during the conversion. "
   ]
  },
  {
   "cell_type": "code",
   "execution_count": 2,
   "metadata": {},
   "outputs": [],
   "source": [
    "pos_dir = '/mnt/c/Users/jribado/Dropbox (IDM)/Data, Dynamics, and Analytics Folder/Projects/malaria_barcode/pfv6_barcodeSubset'\n",
    "daniels_df = pd.read_csv(os.path.join(pos_dir, \"2008Daniels_BarcodePositions.txt\"), sep='\\t', header=0)\n",
    "lo_df      = pd.read_csv(os.path.join(pos_dir, \"2018Lo_BarcodePositions.txt\"), sep='\\t', header=0)"
   ]
  },
  {
   "cell_type": "code",
   "execution_count": 3,
   "metadata": {},
   "outputs": [
    {
     "name": "stdout",
     "output_type": "stream",
     "text": [
      "24\n"
     ]
    },
    {
     "data": {
      "text/plain": [
       "['01_539044', '02_842803', '04_282592', '05_9311601', '06_145472']"
      ]
     },
     "execution_count": 3,
     "metadata": {},
     "output_type": "execute_result"
    }
   ],
   "source": [
    "# create a list with the chromosome and position for each study\n",
    "daniels_pos = [x + \"_\" + str(y) for x, y in zip([\"{:02d}\".format(x) for x in daniels_df[\"chr\"]], daniels_df[\"position\"].tolist())]\n",
    "print(len(daniels_pos))\n",
    "daniels_pos[1:6]"
   ]
  },
  {
   "cell_type": "code",
   "execution_count": 4,
   "metadata": {},
   "outputs": [
    {
     "name": "stdout",
     "output_type": "stream",
     "text": [
      "96\n"
     ]
    },
    {
     "data": {
      "text/plain": [
       "['01_107988', '01_388876', '01_497218', '01_506357', '01_565523']"
      ]
     },
     "execution_count": 4,
     "metadata": {},
     "output_type": "execute_result"
    }
   ],
   "source": [
    "lo_pos = [x + \"_\" + str(y) for x, y in zip([\"{:02d}\".format(x) for x in lo_df[\"Chromosome\"]], lo_df[\"Position\"].tolist())]\n",
    "print(len(lo_pos))\n",
    "lo_pos[1:6]"
   ]
  },
  {
   "cell_type": "markdown",
   "metadata": {},
   "source": [
    "## Load variant file "
   ]
  },
  {
   "cell_type": "code",
   "execution_count": 33,
   "metadata": {},
   "outputs": [],
   "source": [
    "# read in zarr files\n",
    "zarr_path='/mnt/c/Users/jribado/Dropbox (IDM)/Data, Dynamics, and Analytics Folder/Projects/Pfv6 Malaria/Pf_6.zarr.zip'\n",
    "callset = zarr.open(zarr_path, mode='r')"
   ]
  },
  {
   "cell_type": "code",
   "execution_count": 37,
   "metadata": {},
   "outputs": [
    {
     "name": "stdout",
     "output_type": "stream",
     "text": [
      "6051696\n"
     ]
    },
    {
     "data": {
      "text/plain": [
       "['01_37', '01_58', '01_65', '01_72', '01_79']"
      ]
     },
     "execution_count": 37,
     "metadata": {},
     "output_type": "execute_result"
    }
   ],
   "source": [
    "# get the chromosome and position for all possible variants\n",
    "zarr_chrom = [x.split(\"_\",2)[1] for x in callset['variants/CHROM'][:].tolist()]\n",
    "zarr_pos = callset['variants/POS'][:].tolist()\n",
    "zarr_index = [x + \"_\" + str(y) for x, y in zip(zarr_chrom, zarr_pos)]\n",
    "print(len(zarr_index))\n",
    "zarr_index[1:6]"
   ]
  },
  {
   "cell_type": "markdown",
   "metadata": {},
   "source": [
    "## Find index overlaps\n",
    "\n",
    "There are ~6 million variant positions in the Pfv6 release where any variant is present in any of the 7,113 samples. The SNPs in both studies should overlap - especially if the samples are a part of the consortium. \n",
    "\n",
    "### Daniels 2008"
   ]
  },
  {
   "cell_type": "code",
   "execution_count": 55,
   "metadata": {},
   "outputs": [
    {
     "data": {
      "text/plain": [
       "5"
      ]
     },
     "execution_count": 55,
     "metadata": {},
     "output_type": "execute_result"
    }
   ],
   "source": [
    "len(list(set(zarr_index)&set(daniels_pos)))"
   ]
  },
  {
   "cell_type": "markdown",
   "metadata": {},
   "source": [
    "### Lo 2018"
   ]
  },
  {
   "cell_type": "code",
   "execution_count": 56,
   "metadata": {},
   "outputs": [
    {
     "data": {
      "text/plain": [
       "25"
      ]
     },
     "execution_count": 56,
     "metadata": {},
     "output_type": "execute_result"
    }
   ],
   "source": [
    "len(list(set(zarr_index)&set(lo_pos)))"
   ]
  },
  {
   "cell_type": "markdown",
   "metadata": {},
   "source": [
    "That's not great. \n",
    "\n",
    "### Overlap discrepensies hypotheses\n",
    "\n",
    "1. The studies are using different reference genomes, which would change the position of SNPs.\n",
    "    - Likely - check papers for reference genome used to call SNPs.\n",
    "    - Update: Daniels 2008 coordinates reflect the 3d7 genome from PlasmoDB v5 and Lo 2018 uses samples from 5 study sites in western Kenya with a 126 SNP panel from Neafsey et al 2008 - also likely the 3d7v5 genome available at the time. When checking PlasmoDB the only 3d7 genome available matches the one used for Pfv6 read alignment.\n",
    "2. The samples used in the studies to find SNPs are not in MalariaGEN, and the other samples in Pfv6 from same population have different genomic structure at these sites. \n",
    "    - Likely - chosen SNPs are the result of avilable samples at the time and could reflect population specific SNPs. \n",
    "    - Update: Lo 2018 finds SNPs specific to western Kenya; Daniels 2008 SNPs in this cohort are relatively homogenous. It may be these SNPs are specific to this population and therefore not represented in Pfv6 samples. \n",
    "3. Genomic struture around these positions makes if difficult to unambigiously map reads to the region, and there mapping isn't good enough to call variants at these sites. \n",
    "    - Less likely - there are 7k samples, and there is no filtering at the moment for low quality SNPs.   \n",
    "4. The indexes do not match between the file types - should both be 1-based indexing. \n",
    "    - Check by adding one to the VCF position before matching. If all, or nearly all, positions match then it's an indexing error. \n",
    "    - Update: Only 2 additional SNPs matched between files which is a function of genome diversity, not a systemic error calling positions. "
   ]
  },
  {
   "cell_type": "markdown",
   "metadata": {},
   "source": [
    "## Pf3k sanity check\n",
    "\n",
    "Checking population structure differences on the ability to call a SNP (hypothesis 2) is difficult when the samples are not shared across studies. Missing variants could be further confounded by updates to the variant calling pipeline.\n",
    "\n",
    "Pf3k samples are a subset of the Pfv6 samples, which is a good sanity check to at least address the latter point of the effect of the updated pipeline on number of variants called. Variant calls were run individually for each Pfv6 sample, meaning that the addition for more samples should not have reduced the confidence of calls at individual positions due to population differences. Variants should remain roughly equal between the two versions assuming minor updates to the variant algorithm. \n",
    "\n",
    "(Due to some memory storage issues, I cannot read each chromosome in from Pf3k. These files are stored on the P/: drive and cannot be accessed from the Linux subsystem intalled on Windows this notebook is currently running from. I am checking overlaps on the first chromosome.)  "
   ]
  },
  {
   "cell_type": "code",
   "execution_count": 30,
   "metadata": {},
   "outputs": [
    {
     "name": "stdout",
     "output_type": "stream",
     "text": [
      "/mnt/c/Users/jribado/OneDrive - IDMOD/Malaria/pf3k_zarr_format/SNP_INDEL_Pf3D7_01_v3.zarr\n",
      "/mnt/c/Users/jribado/OneDrive - IDMOD/Malaria/pf3k_zarr_format/SNP_INDEL_Pf3D7_02_v3.zarr\n",
      "/mnt/c/Users/jribado/OneDrive - IDMOD/Malaria/pf3k_zarr_format/SNP_INDEL_Pf3D7_03_v3.zarr\n",
      "/mnt/c/Users/jribado/OneDrive - IDMOD/Malaria/pf3k_zarr_format/SNP_INDEL_Pf3D7_04_v3.zarr\n",
      "/mnt/c/Users/jribado/OneDrive - IDMOD/Malaria/pf3k_zarr_format/SNP_INDEL_Pf3D7_05_v3.zarr\n",
      "/mnt/c/Users/jribado/OneDrive - IDMOD/Malaria/pf3k_zarr_format/SNP_INDEL_Pf3D7_06_v3.zarr\n",
      "/mnt/c/Users/jribado/OneDrive - IDMOD/Malaria/pf3k_zarr_format/SNP_INDEL_Pf3D7_07_v3.zarr\n",
      "/mnt/c/Users/jribado/OneDrive - IDMOD/Malaria/pf3k_zarr_format/SNP_INDEL_Pf3D7_08_v3.zarr\n",
      "/mnt/c/Users/jribado/OneDrive - IDMOD/Malaria/pf3k_zarr_format/SNP_INDEL_Pf3D7_09_v3.zarr\n",
      "/mnt/c/Users/jribado/OneDrive - IDMOD/Malaria/pf3k_zarr_format/SNP_INDEL_Pf3D7_10_v3.zarr\n",
      "/mnt/c/Users/jribado/OneDrive - IDMOD/Malaria/pf3k_zarr_format/SNP_INDEL_Pf3D7_11_v3.zarr\n",
      "/mnt/c/Users/jribado/OneDrive - IDMOD/Malaria/pf3k_zarr_format/SNP_INDEL_Pf3D7_12_v3.zarr\n",
      "/mnt/c/Users/jribado/OneDrive - IDMOD/Malaria/pf3k_zarr_format/SNP_INDEL_Pf3D7_13_v3.zarr\n",
      "/mnt/c/Users/jribado/OneDrive - IDMOD/Malaria/pf3k_zarr_format/SNP_INDEL_Pf3D7_14_v3.zarr\n"
     ]
    }
   ],
   "source": [
    "# read in variant files for Pf3k\n",
    "x=[\"{:02d}\".format(item) for item in range(1, 15)]\n",
    "pf3k_chrom, pf3k_pos, pf3k_variant_keep = [], [], []\n",
    "for i in x: \n",
    "    pf3k_zarr=''.join([\"/mnt/c/Users/jribado/OneDrive - IDMOD/Malaria/pf3k_zarr_format/SNP_INDEL_Pf3D7_\",str(i),\"_v3.zarr\"])\n",
    "    print(pf3k_zarr)\n",
    "    pf3k_callset = zarr.open(pf3k_zarr, mode='r')\n",
    "    pf3k_chrom.extend([x.split(\"_\",2)[1] for x in pf3k_callset['variants/CHROM'][:]])\n",
    "    pf3k_pos.extend(pf3k_callset['variants/POS'][:])\n",
    "    quality_set = pf3k_callset['variants/FILTER_PASS'][:]\n",
    "    snp_set = pf3k_callset['variants/is_snp'][:]\n",
    "    vsqlod_set = pf3k_callset['variants/VQSLOD'][:]  > 6\n",
    "    biallelic_set = pf3k_callset['variants/numalt'][:] == 1\n",
    "    pf3k_variant_keep.extend(quality_set & snp_set & vsqlod_set & biallelic_set)\n",
    "    "
   ]
  },
  {
   "cell_type": "code",
   "execution_count": 24,
   "metadata": {},
   "outputs": [],
   "source": [
    "pf3k_index = [x + \"_\" + str(y) for x, y in zip(pf3k_chrom, pf3k_pos)]"
   ]
  },
  {
   "cell_type": "code",
   "execution_count": 27,
   "metadata": {},
   "outputs": [
    {
     "data": {
      "text/plain": [
       "4"
      ]
     },
     "execution_count": 27,
     "metadata": {},
     "output_type": "execute_result"
    }
   ],
   "source": [
    "len(list(set(pf3k_index)&set(daniels_pos)))"
   ]
  },
  {
   "cell_type": "code",
   "execution_count": 58,
   "metadata": {},
   "outputs": [
    {
     "data": {
      "text/html": [
       "<link rel=\"stylesheet\" href=\"//cdnjs.cloudflare.com/ajax/libs/jstree/3.3.3/themes/default/style.min.css\"/><div id=\"8bdd24a8-22b2-4194-8a47-15d71d4e729b\" class=\"zarr-tree\"><ul><li data-jstree='{\"type\": \"Group\"}' class='jstree-open'><span>/</span><ul><li data-jstree='{\"type\": \"Group\"}' class='jstree-open'><span>calldata</span><ul><li data-jstree='{\"type\": \"Array\"}' class='jstree-open'><span>AD (500801, 2640, 4) int16</span></li><li data-jstree='{\"type\": \"Array\"}' class='jstree-open'><span>DP (500801, 2640) int16</span></li><li data-jstree='{\"type\": \"Array\"}' class='jstree-open'><span>GQ (500801, 2640) int8</span></li><li data-jstree='{\"type\": \"Array\"}' class='jstree-open'><span>GT (500801, 2640, 2) int8</span></li><li data-jstree='{\"type\": \"Array\"}' class='jstree-open'><span>MIN_DP (500801, 2640) int32</span></li><li data-jstree='{\"type\": \"Array\"}' class='jstree-open'><span>PGT (500801, 2640) object</span></li><li data-jstree='{\"type\": \"Array\"}' class='jstree-open'><span>PID (500801, 2640) object</span></li><li data-jstree='{\"type\": \"Array\"}' class='jstree-open'><span>PL (500801, 2640, 3) int32</span></li><li data-jstree='{\"type\": \"Array\"}' class='jstree-open'><span>RGQ (500801, 2640) int32</span></li><li data-jstree='{\"type\": \"Array\"}' class='jstree-open'><span>SB (500801, 2640, 4) int32</span></li></ul></li><li data-jstree='{\"type\": \"Array\"}' class='jstree-open'><span>samples (2640,) object</span></li><li data-jstree='{\"type\": \"Group\"}' class='jstree-open'><span>variants</span><ul><li data-jstree='{\"type\": \"Array\"}' class='jstree-open'><span>AC (500801, 3) int32</span></li><li data-jstree='{\"type\": \"Array\"}' class='jstree-open'><span>AF (500801, 3) float32</span></li><li data-jstree='{\"type\": \"Array\"}' class='jstree-open'><span>ALT (500801, 3) object</span></li><li data-jstree='{\"type\": \"Array\"}' class='jstree-open'><span>AN (500801,) int32</span></li><li data-jstree='{\"type\": \"Array\"}' class='jstree-open'><span>BaseQRankSum (500801,) float32</span></li><li data-jstree='{\"type\": \"Array\"}' class='jstree-open'><span>CHROM (500801,) object</span></li><li data-jstree='{\"type\": \"Array\"}' class='jstree-open'><span>ClippingRankSum (500801,) float32</span></li><li data-jstree='{\"type\": \"Array\"}' class='jstree-open'><span>DP (500801,) int32</span></li><li data-jstree='{\"type\": \"Array\"}' class='jstree-open'><span>DS (500801,) bool</span></li><li data-jstree='{\"type\": \"Array\"}' class='jstree-open'><span>END (500801,) int32</span></li><li data-jstree='{\"type\": \"Array\"}' class='jstree-open'><span>FILTER_Centromere (500801,) bool</span></li><li data-jstree='{\"type\": \"Array\"}' class='jstree-open'><span>FILTER_InternalHypervariable (500801,) bool</span></li><li data-jstree='{\"type\": \"Array\"}' class='jstree-open'><span>FILTER_LowQual (500801,) bool</span></li><li data-jstree='{\"type\": \"Array\"}' class='jstree-open'><span>FILTER_Low_VQSLOD (500801,) bool</span></li><li data-jstree='{\"type\": \"Array\"}' class='jstree-open'><span>FILTER_PASS (500801,) bool</span></li><li data-jstree='{\"type\": \"Array\"}' class='jstree-open'><span>FILTER_SubtelomericHypervariable (500801,) bool</span></li><li data-jstree='{\"type\": \"Array\"}' class='jstree-open'><span>FILTER_SubtelomericRepeat (500801,) bool</span></li><li data-jstree='{\"type\": \"Array\"}' class='jstree-open'><span>FILTER_VQSRTrancheINDEL99.00to99.90 (500801,) bool</span></li><li data-jstree='{\"type\": \"Array\"}' class='jstree-open'><span>FILTER_VQSRTrancheINDEL99.90to100.00 (500801,) bool</span></li><li data-jstree='{\"type\": \"Array\"}' class='jstree-open'><span>FILTER_VQSRTrancheINDEL99.90to100.00+ (500801,) bool</span></li><li data-jstree='{\"type\": \"Array\"}' class='jstree-open'><span>FILTER_VQSRTrancheSNP99.90to100.00 (500801,) bool</span></li><li data-jstree='{\"type\": \"Array\"}' class='jstree-open'><span>FILTER_VQSRTrancheSNP99.90to100.00+ (500801,) bool</span></li><li data-jstree='{\"type\": \"Array\"}' class='jstree-open'><span>FS (500801,) float32</span></li><li data-jstree='{\"type\": \"Array\"}' class='jstree-open'><span>GC (500801,) float32</span></li><li data-jstree='{\"type\": \"Array\"}' class='jstree-open'><span>HaplotypeScore (500801,) float32</span></li><li data-jstree='{\"type\": \"Array\"}' class='jstree-open'><span>ID (500801,) object</span></li><li data-jstree='{\"type\": \"Array\"}' class='jstree-open'><span>InbreedingCoeff (500801,) float32</span></li><li data-jstree='{\"type\": \"Array\"}' class='jstree-open'><span>MLEAC (500801, 3) int32</span></li><li data-jstree='{\"type\": \"Array\"}' class='jstree-open'><span>MLEAF (500801, 3) float32</span></li><li data-jstree='{\"type\": \"Array\"}' class='jstree-open'><span>MQ (500801,) float32</span></li><li data-jstree='{\"type\": \"Array\"}' class='jstree-open'><span>MQRankSum (500801,) float32</span></li><li data-jstree='{\"type\": \"Array\"}' class='jstree-open'><span>NEGATIVE_TRAIN_SITE (500801,) bool</span></li><li data-jstree='{\"type\": \"Array\"}' class='jstree-open'><span>POS (500801,) int32</span></li><li data-jstree='{\"type\": \"Array\"}' class='jstree-open'><span>POSITIVE_TRAIN_SITE (500801,) bool</span></li><li data-jstree='{\"type\": \"Array\"}' class='jstree-open'><span>QD (500801,) float32</span></li><li data-jstree='{\"type\": \"Array\"}' class='jstree-open'><span>QUAL (500801,) float32</span></li><li data-jstree='{\"type\": \"Array\"}' class='jstree-open'><span>REF (500801,) object</span></li><li data-jstree='{\"type\": \"Array\"}' class='jstree-open'><span>RPA (500801,) int32</span></li><li data-jstree='{\"type\": \"Array\"}' class='jstree-open'><span>RU (500801,) object</span></li><li data-jstree='{\"type\": \"Array\"}' class='jstree-open'><span>ReadPosRankSum (500801,) float32</span></li><li data-jstree='{\"type\": \"Array\"}' class='jstree-open'><span>RegionType (500801,) object</span></li><li data-jstree='{\"type\": \"Array\"}' class='jstree-open'><span>SNPEFF_AMINO_ACID_CHANGE (500801,) object</span></li><li data-jstree='{\"type\": \"Array\"}' class='jstree-open'><span>SNPEFF_CODON_CHANGE (500801,) object</span></li><li data-jstree='{\"type\": \"Array\"}' class='jstree-open'><span>SNPEFF_EFFECT (500801,) object</span></li><li data-jstree='{\"type\": \"Array\"}' class='jstree-open'><span>SNPEFF_EXON_ID (500801,) object</span></li><li data-jstree='{\"type\": \"Array\"}' class='jstree-open'><span>SNPEFF_FUNCTIONAL_CLASS (500801,) object</span></li><li data-jstree='{\"type\": \"Array\"}' class='jstree-open'><span>SNPEFF_GENE_BIOTYPE (500801,) object</span></li><li data-jstree='{\"type\": \"Array\"}' class='jstree-open'><span>SNPEFF_GENE_NAME (500801,) object</span></li><li data-jstree='{\"type\": \"Array\"}' class='jstree-open'><span>SNPEFF_IMPACT (500801,) object</span></li><li data-jstree='{\"type\": \"Array\"}' class='jstree-open'><span>SNPEFF_TRANSCRIPT_ID (500801,) object</span></li><li data-jstree='{\"type\": \"Array\"}' class='jstree-open'><span>SOR (500801,) float32</span></li><li data-jstree='{\"type\": \"Array\"}' class='jstree-open'><span>STR (500801,) bool</span></li><li data-jstree='{\"type\": \"Array\"}' class='jstree-open'><span>VQSLOD (500801,) float32</span></li><li data-jstree='{\"type\": \"Array\"}' class='jstree-open'><span>VariantType (500801,) object</span></li><li data-jstree='{\"type\": \"Array\"}' class='jstree-open'><span>altlen (500801, 3) int32</span></li><li data-jstree='{\"type\": \"Array\"}' class='jstree-open'><span>culprit (500801,) object</span></li><li data-jstree='{\"type\": \"Array\"}' class='jstree-open'><span>is_snp (500801,) bool</span></li><li data-jstree='{\"type\": \"Array\"}' class='jstree-open'><span>numalt (500801,) int32</span></li><li data-jstree='{\"type\": \"Array\"}' class='jstree-open'><span>set (500801,) object</span></li></ul></li></ul></li></ul></div>\n",
       "<script>\n",
       "    if (!require.defined('jquery')) {\n",
       "        require.config({\n",
       "            paths: {\n",
       "                jquery: '//cdnjs.cloudflare.com/ajax/libs/jquery/1.12.1/jquery.min'\n",
       "            },\n",
       "        });\n",
       "    }\n",
       "    if (!require.defined('jstree')) {\n",
       "        require.config({\n",
       "            paths: {\n",
       "                jstree: '//cdnjs.cloudflare.com/ajax/libs/jstree/3.3.3/jstree.min'\n",
       "            },\n",
       "        });\n",
       "    }\n",
       "    require(['jstree'], function() {\n",
       "        $('#8bdd24a8-22b2-4194-8a47-15d71d4e729b').jstree({\n",
       "            types: {\n",
       "                Group: {\n",
       "                    icon: \"fa fa-folder\"\n",
       "                },\n",
       "                Array: {\n",
       "                    icon: \"fa fa-table\"\n",
       "                }\n",
       "            },\n",
       "            plugins: [\"types\"]\n",
       "        });\n",
       "    });\n",
       "</script>\n"
      ],
      "text/plain": [
       "/\n",
       " ├── calldata\n",
       " │   ├── AD (500801, 2640, 4) int16\n",
       " │   ├── DP (500801, 2640) int16\n",
       " │   ├── GQ (500801, 2640) int8\n",
       " │   ├── GT (500801, 2640, 2) int8\n",
       " │   ├── MIN_DP (500801, 2640) int32\n",
       " │   ├── PGT (500801, 2640) object\n",
       " │   ├── PID (500801, 2640) object\n",
       " │   ├── PL (500801, 2640, 3) int32\n",
       " │   ├── RGQ (500801, 2640) int32\n",
       " │   └── SB (500801, 2640, 4) int32\n",
       " ├── samples (2640,) object\n",
       " └── variants\n",
       "     ├── AC (500801, 3) int32\n",
       "     ├── AF (500801, 3) float32\n",
       "     ├── ALT (500801, 3) object\n",
       "     ├── AN (500801,) int32\n",
       "     ├── BaseQRankSum (500801,) float32\n",
       "     ├── CHROM (500801,) object\n",
       "     ├── ClippingRankSum (500801,) float32\n",
       "     ├── DP (500801,) int32\n",
       "     ├── DS (500801,) bool\n",
       "     ├── END (500801,) int32\n",
       "     ├── FILTER_Centromere (500801,) bool\n",
       "     ├── FILTER_InternalHypervariable (500801,) bool\n",
       "     ├── FILTER_LowQual (500801,) bool\n",
       "     ├── FILTER_Low_VQSLOD (500801,) bool\n",
       "     ├── FILTER_PASS (500801,) bool\n",
       "     ├── FILTER_SubtelomericHypervariable (500801,) bool\n",
       "     ├── FILTER_SubtelomericRepeat (500801,) bool\n",
       "     ├── FILTER_VQSRTrancheINDEL99.00to99.90 (500801,) bool\n",
       "     ├── FILTER_VQSRTrancheINDEL99.90to100.00 (500801,) bool\n",
       "     ├── FILTER_VQSRTrancheINDEL99.90to100.00+ (500801,) bool\n",
       "     ├── FILTER_VQSRTrancheSNP99.90to100.00 (500801,) bool\n",
       "     ├── FILTER_VQSRTrancheSNP99.90to100.00+ (500801,) bool\n",
       "     ├── FS (500801,) float32\n",
       "     ├── GC (500801,) float32\n",
       "     ├── HaplotypeScore (500801,) float32\n",
       "     ├── ID (500801,) object\n",
       "     ├── InbreedingCoeff (500801,) float32\n",
       "     ├── MLEAC (500801, 3) int32\n",
       "     ├── MLEAF (500801, 3) float32\n",
       "     ├── MQ (500801,) float32\n",
       "     ├── MQRankSum (500801,) float32\n",
       "     ├── NEGATIVE_TRAIN_SITE (500801,) bool\n",
       "     ├── POS (500801,) int32\n",
       "     ├── POSITIVE_TRAIN_SITE (500801,) bool\n",
       "     ├── QD (500801,) float32\n",
       "     ├── QUAL (500801,) float32\n",
       "     ├── REF (500801,) object\n",
       "     ├── RPA (500801,) int32\n",
       "     ├── RU (500801,) object\n",
       "     ├── ReadPosRankSum (500801,) float32\n",
       "     ├── RegionType (500801,) object\n",
       "     ├── SNPEFF_AMINO_ACID_CHANGE (500801,) object\n",
       "     ├── SNPEFF_CODON_CHANGE (500801,) object\n",
       "     ├── SNPEFF_EFFECT (500801,) object\n",
       "     ├── SNPEFF_EXON_ID (500801,) object\n",
       "     ├── SNPEFF_FUNCTIONAL_CLASS (500801,) object\n",
       "     ├── SNPEFF_GENE_BIOTYPE (500801,) object\n",
       "     ├── SNPEFF_GENE_NAME (500801,) object\n",
       "     ├── SNPEFF_IMPACT (500801,) object\n",
       "     ├── SNPEFF_TRANSCRIPT_ID (500801,) object\n",
       "     ├── SOR (500801,) float32\n",
       "     ├── STR (500801,) bool\n",
       "     ├── VQSLOD (500801,) float32\n",
       "     ├── VariantType (500801,) object\n",
       "     ├── altlen (500801, 3) int32\n",
       "     ├── culprit (500801,) object\n",
       "     ├── is_snp (500801,) bool\n",
       "     ├── numalt (500801,) int32\n",
       "     └── set (500801,) object"
      ]
     },
     "execution_count": 58,
     "metadata": {},
     "output_type": "execute_result"
    }
   ],
   "source": [
    "pf3k_callset.tree(expand=True)"
   ]
  },
  {
   "cell_type": "code",
   "execution_count": 31,
   "metadata": {},
   "outputs": [
    {
     "data": {
      "text/plain": [
       "247496"
      ]
     },
     "execution_count": 31,
     "metadata": {},
     "output_type": "execute_result"
    }
   ],
   "source": [
    "np.count_nonzero(pf3k_variant_keep)"
   ]
  },
  {
   "cell_type": "code",
   "execution_count": 41,
   "metadata": {},
   "outputs": [
    {
     "name": "stdout",
     "output_type": "stream",
     "text": [
      "Number of filtered genes: 89578\n"
     ]
    }
   ],
   "source": [
    "# get high quality snps for pfv6 to find overlaps\n",
    "quality_set = callset['variants/FILTER_PASS'][:]\n",
    "snp_set = callset['variants/is_snp'][:]\n",
    "vsqlod_set = callset['variants/VQSLOD'][:]  > 6\n",
    "biallelic_set = callset['variants/numalt'][:] == 1\n",
    "variant_keep = quality_set & snp_set & vsqlod_set & biallelic_set \n",
    "filt_n = np.count_nonzero(variant_keep)\n",
    "print(\"Number of filtered genes:\", filt_n)"
   ]
  },
  {
   "cell_type": "code",
   "execution_count": 73,
   "metadata": {},
   "outputs": [],
   "source": [
    "pf3k_match=pd.DataFrame(list(zip(pf3k_index, pf3k_variant_keep)), columns=['pos', 'hq'])\n",
    "pf3k_match.insert(0, 'id', range(0, len(pf3k_match)))\n",
    "pf3k_keep = pf3k_match[pf3k_match.hq == True].id.values\n",
    "pf3k_keep_list = [pf3k_index[i] for i in pf3k_keep]"
   ]
  },
  {
   "cell_type": "code",
   "execution_count": 71,
   "metadata": {},
   "outputs": [],
   "source": [
    "pfv6_match=pd.DataFrame(list(zip(zarr_index, variant_keep)), columns=['pos', 'hq'])\n",
    "pfv6_match.insert(0, 'id', range(0, len(pfv6_match)))\n",
    "pfv6_keep = pfv6_match[pfv6_match.hq == True].id.values\n",
    "pfv6_keep_list = [zarr_index[i] for i in pfv6_keep]"
   ]
  },
  {
   "cell_type": "code",
   "execution_count": 74,
   "metadata": {},
   "outputs": [
    {
     "data": {
      "text/plain": [
       "35696"
      ]
     },
     "execution_count": 74,
     "metadata": {},
     "output_type": "execute_result"
    }
   ],
   "source": [
    "len(list(set(pf3k_keep_list)&set(pfv6_keep_list)))"
   ]
  },
  {
   "cell_type": "markdown",
   "metadata": {},
   "source": [
    "variant_keep[1:4]"
   ]
  }
 ],
 "metadata": {
  "kernelspec": {
   "display_name": "Python 3",
   "language": "python",
   "name": "python3"
  },
  "language_info": {
   "codemirror_mode": {
    "name": "ipython",
    "version": 3
   },
   "file_extension": ".py",
   "mimetype": "text/x-python",
   "name": "python",
   "nbconvert_exporter": "python",
   "pygments_lexer": "ipython3",
   "version": "3.6.9"
  }
 },
 "nbformat": 4,
 "nbformat_minor": 2
}
